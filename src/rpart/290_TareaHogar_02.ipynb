{
  "nbformat": 4,
  "nbformat_minor": 0,
  "metadata": {
    "colab": {
      "provenance": []
    },
    "kernelspec": {
      "name": "ir",
      "display_name": "R"
    },
    "language_info": {
      "name": "R"
    }
  },
  "cells": [
    {
      "cell_type": "markdown",
      "source": [
        "\n",
        "# Tarea para el Hogar 02"
      ],
      "metadata": {
        "id": "F3r8aa3pBigj"
      }
    },
    {
      "cell_type": "markdown",
      "source": [
        "Esta Tarea para el Hogar 02 se entrega el final de la segunda clase\n",
        "<br> se espera de usted que intente avanzar con los desafios propuestos y que los traiga terminados para la Clase 03, ya que se analizarán los resultados"
      ],
      "metadata": {
        "id": "nBm4ktHUBmZt"
      }
    },
    {
      "cell_type": "markdown",
      "source": [
        "##  1. Ensembles de Modelos"
      ],
      "metadata": {
        "id": "TK-M04ElCESC"
      }
    },
    {
      "cell_type": "markdown",
      "source": [
        "Vea el siguiente video [BBC - The Code - The Wisdom of the Crowd](https://www.youtube.com/watch?v=iOucwX7Z1HU)    ( 5 min)\n"
      ],
      "metadata": {
        "id": "biPYxgobCOSS"
      }
    },
    {
      "cell_type": "markdown",
      "source": [
        "Lea los siguientes artículos\n",
        "\n",
        "\n",
        "*   [The Wisdom of Crowds (Vox Populi) by Francis Galton](https://www.all-about-psychology.com/the-wisdom-of-crowds.html)  (10 min)\n",
        "*   [A Gentle Introduction to Ensemble Learning](https://machinelearningmastery.com/what-is-ensemble-learning/)  (10 min)\n",
        "\n"
      ],
      "metadata": {
        "id": "FBszBRyNCcjp"
      }
    },
    {
      "cell_type": "markdown",
      "source": [
        "\n",
        "\n",
        "---\n",
        "\n"
      ],
      "metadata": {
        "id": "x7SebtV2lpHQ"
      }
    },
    {
      "cell_type": "markdown",
      "source": [
        "##  2.  Zero2Hero   primera parte\n",
        "Se han lanzado los primeros fascículos coleccionables llamados \"from Zero to Hero\" que muy detalladamente, paso a paso enseñan todo lo necesario de R para entender los scripts oficiales de la asignatura.\n",
        "Están en el repositorio oficial de la asignatura, carpeta  **src/zero2hero**"
      ],
      "metadata": {
        "id": "NQcY8u2MDSLT"
      }
    },
    {
      "cell_type": "markdown",
      "source": [
        "\n",
        "\n",
        "---\n",
        "\n"
      ],
      "metadata": {
        "id": "GcO0OSiIEAGy"
      }
    },
    {
      "cell_type": "markdown",
      "source": [
        "## 3.  Grid Search"
      ],
      "metadata": {
        "id": "6MStcyn0EBdT"
      }
    },
    {
      "cell_type": "markdown",
      "source": [
        "Busque en internet el precido significado de los hiperparámetros de la librería **rpart**  que está implementando el algoritmo **CART**  Classification and Regression Trees  propuesto en el año 1984 por Leo Brieman:\n",
        "\n",
        "*   cp\n",
        "*   maxdepth\n",
        "*   minsplit\n",
        "*   minbucket\n",
        "\n",
        "Entienda que valores es razonable tome cada hiperparámetro,  en particular profundice en el hiperparámetro  **cp**  y la posibilidad que tome valores negativos.  Es válido consultar a su amigo de *capacidades especiales*  ChatGPT\n"
      ],
      "metadata": {
        "id": "gM8RKXDgEIY0"
      }
    },
    {
      "cell_type": "markdown",
      "source": [
        "En las siguientes celdas a un notebook incompleto, un esqueleto de codigo brindado a modo de facilitarle la tarea de codeo y permitir que su valiosa cognición se concentre temas conceptuales de Ciencia de Datos\n",
        "\n",
        "Modifiquelo agregando loops para que recorra TODOS los hiperparámetros de rpart  < cp, maxdepth, minsplit, minbucket >, y luego póngalo a correr. Recuerde cambiar por SU semilla\n",
        "Tenga muy presente la granularidad que eligirá para cada hiperparámetro."
      ],
      "metadata": {
        "id": "_k7eT3HIFy9y"
      }
    },
    {
      "cell_type": "markdown",
      "source": [
        "### Seteo del ambiente en Google Colab"
      ],
      "metadata": {
        "id": "kmLygy1TYPfg"
      }
    },
    {
      "cell_type": "markdown",
      "source": [
        "Esta parte se debe correr con el runtime en Python3\n",
        "<br>Ir al menu, Runtime -> Change Runtime Tipe -> Runtime type ->  **Python 3**"
      ],
      "metadata": {
        "id": "OikOm5K2YU3X"
      }
    },
    {
      "cell_type": "markdown",
      "source": [
        "Conectar la virtual machine donde esta corriendo Google Colab con el  Google Drive, para poder tener persistencia de archivos"
      ],
      "metadata": {
        "id": "4fmV5LyZdFyI"
      }
    },
    {
      "cell_type": "code",
      "source": [
        "# primero establecer el Runtime de Python 3\n",
        "from google.colab import drive\n",
        "drive.mount('/content/.drive')"
      ],
      "metadata": {
        "id": "ilEZ-bE2VybW",
        "outputId": "4a5ae5c5-095c-4355-87e4-029509f852da",
        "colab": {
          "base_uri": "https://localhost:8080/"
        }
      },
      "execution_count": null,
      "outputs": [
        {
          "output_type": "stream",
          "name": "stdout",
          "text": [
            "Mounted at /content/.drive\n"
          ]
        }
      ]
    },
    {
      "cell_type": "markdown",
      "source": [
        "Para correr la siguiente celda es fundamental en Arranque en Frio haber copiado el archivo kaggle.json al Google Drive, en la carpeta indicada en el instructivo\n",
        "\n",
        "<br>los siguientes comando estan en shell script de Linux\n",
        "*   Crear las carpetas en el Google Drive\n",
        "*   \"instalar\" el archivo kaggle.json desde el Google Drive a la virtual machine para que pueda ser utilizado por la libreria  kaggle de Python\n",
        "*   Bajar el  **dataset_pequeno**  al  Google Drive  y tambien al disco local de la virtual machine que esta corriendo Google Colab\n",
        "\n"
      ],
      "metadata": {
        "id": "ilaKtqWldeWg"
      }
    },
    {
      "cell_type": "code",
      "source": [
        "%%shell\n",
        "\n",
        "mkdir -p \"/content/.drive/My Drive/labo1\"\n",
        "mkdir -p \"/content/buckets\"\n",
        "ln -s \"/content/.drive/My Drive/labo1\" /content/buckets/b1\n",
        "\n",
        "mkdir -p ~/.kaggle\n",
        "cp /content/buckets/b1/kaggle/kaggle.json  ~/.kaggle\n",
        "chmod 600 ~/.kaggle/kaggle.json\n",
        "\n",
        "\n",
        "mkdir -p /content/buckets/b1/exp\n",
        "mkdir -p /content/buckets/b1/datasets\n",
        "mkdir -p /content/datasets\n",
        "\n",
        "\n",
        "\n",
        "archivo_origen=\"https://storage.googleapis.com/open-courses/austral2025-af91/dataset_pequeno.csv\"\n",
        "archivo_destino=\"/content/datasets/dataset_pequeno.csv\"\n",
        "archivo_destino_bucket=\"/content/buckets/b1/datasets/dataset_pequeno.csv\"\n",
        "\n",
        "if ! test -f $archivo_destino_bucket; then\n",
        "  wget  $archivo_origen  -O $archivo_destino_bucket\n",
        "fi\n",
        "\n",
        "\n",
        "if ! test -f $archivo_destino; then\n",
        "  cp  $archivo_destino_bucket  $archivo_destino\n",
        "fi\n",
        "\n"
      ],
      "metadata": {
        "id": "W8dQFI5QYCFa",
        "outputId": "4ff26fa7-a303-4f0e-92e2-f01f3ae1e7d4",
        "colab": {
          "base_uri": "https://localhost:8080/"
        }
      },
      "execution_count": null,
      "outputs": [
        {
          "output_type": "stream",
          "name": "stdout",
          "text": [
            "cp: cannot stat '/content/buckets/b1/kaggle/kaggle.json': No such file or directory\n",
            "chmod: cannot access '/root/.kaggle/kaggle.json': No such file or directory\n"
          ]
        },
        {
          "output_type": "execute_result",
          "data": {
            "text/plain": []
          },
          "metadata": {},
          "execution_count": 2
        }
      ]
    },
    {
      "cell_type": "markdown",
      "source": [
        "limpio el ambiente de R"
      ],
      "metadata": {
        "id": "SE94XRhWsxkX"
      }
    },
    {
      "cell_type": "code",
      "source": [
        "# limpio la memoria\n",
        "rm(list=ls(all.names=TRUE)) # remove all objects\n",
        "gc(full=TRUE, verbose=FALSE) # garbage collection"
      ],
      "metadata": {
        "id": "oZG_4br6szlT",
        "outputId": "3163fbe3-1b1d-43a4-87e5-8663641b0140",
        "colab": {
          "base_uri": "https://localhost:8080/",
          "height": 129
        }
      },
      "execution_count": 69,
      "outputs": [
        {
          "output_type": "display_data",
          "data": {
            "text/html": [
              "<table class=\"dataframe\">\n",
              "<caption>A matrix: 2 × 6 of type dbl</caption>\n",
              "<thead>\n",
              "\t<tr><th></th><th scope=col>used</th><th scope=col>(Mb)</th><th scope=col>gc trigger</th><th scope=col>(Mb)</th><th scope=col>max used</th><th scope=col>(Mb)</th></tr>\n",
              "</thead>\n",
              "<tbody>\n",
              "\t<tr><th scope=row>Ncells</th><td> 809087</td><td>43.3</td><td> 1454474</td><td> 77.7</td><td>  1454474</td><td> 77.7</td></tr>\n",
              "\t<tr><th scope=row>Vcells</th><td>1517705</td><td>11.6</td><td>76807114</td><td>586.0</td><td>104005392</td><td>793.5</td></tr>\n",
              "</tbody>\n",
              "</table>\n"
            ],
            "text/markdown": "\nA matrix: 2 × 6 of type dbl\n\n| <!--/--> | used | (Mb) | gc trigger | (Mb) | max used | (Mb) |\n|---|---|---|---|---|---|---|\n| Ncells |  809087 | 43.3 |  1454474 |  77.7 |   1454474 |  77.7 |\n| Vcells | 1517705 | 11.6 | 76807114 | 586.0 | 104005392 | 793.5 |\n\n",
            "text/latex": "A matrix: 2 × 6 of type dbl\n\\begin{tabular}{r|llllll}\n  & used & (Mb) & gc trigger & (Mb) & max used & (Mb)\\\\\n\\hline\n\tNcells &  809087 & 43.3 &  1454474 &  77.7 &   1454474 &  77.7\\\\\n\tVcells & 1517705 & 11.6 & 76807114 & 586.0 & 104005392 & 793.5\\\\\n\\end{tabular}\n",
            "text/plain": [
              "       used    (Mb) gc trigger (Mb)  max used  (Mb) \n",
              "Ncells  809087 43.3  1454474    77.7   1454474  77.7\n",
              "Vcells 1517705 11.6 76807114   586.0 104005392 793.5"
            ]
          },
          "metadata": {}
        }
      ]
    },
    {
      "cell_type": "code",
      "source": [
        "# cargo las librerias que necesito\n",
        "require(\"data.table\")\n",
        "require(\"rpart\")\n",
        "require(\"parallel\")\n",
        "if (!require(\"primes\")) install.packages(\"primes\")\n",
        "require(\"primes\")"
      ],
      "metadata": {
        "id": "JO-12d7YHkWy"
      },
      "execution_count": 70,
      "outputs": []
    },
    {
      "cell_type": "markdown",
      "source": [
        "Aqui debe poner SU semiila primigenia"
      ],
      "metadata": {
        "id": "0MclPEJ6Q8Bp"
      }
    },
    {
      "cell_type": "code",
      "source": [
        "PARAM <- list()\n",
        "# reemplazar por su primer semilla\n",
        "PARAM$semilla_primigenia <- 100043\n",
        "PARAM$qsemillas <- 100043\n",
        "\n",
        "PARAM$training_pct <- 70L  # entre  1L y 99L\n",
        "\n",
        "# elegir SU dataset comentando/ descomentando\n",
        "PARAM$dataset_nom <- \"~/datasets/dataset_pequeno.csv\""
      ],
      "metadata": {
        "id": "Vt5fC6bWHu5r"
      },
      "execution_count": 71,
      "outputs": []
    },
    {
      "cell_type": "code",
      "source": [
        "# particionar agrega una columna llamada fold a un dataset\n",
        "#  que consiste en una particion estratificada segun agrupa\n",
        "# particionar( data=dataset, division=c(70,30), agrupa=clase_ternaria, seed=semilla)\n",
        "#   crea una particion 70, 30\n",
        "\n",
        "particionar <- function(data, division, agrupa = \"\", campo = \"fold\", start = 1, seed = NA) {\n",
        "  if (!is.na(seed)) set.seed(seed)\n",
        "\n",
        "  bloque <- unlist(mapply(function(x, y) {\n",
        "    rep(y, x)\n",
        "  }, division, seq(from = start, length.out = length(division))))\n",
        "\n",
        "  data[, (campo) := sample(rep(bloque, ceiling(.N / length(bloque))))[1:.N],\n",
        "    by = agrupa\n",
        "  ]\n",
        "}\n"
      ],
      "metadata": {
        "id": "Z1dchsrWH4MD"
      },
      "execution_count": 72,
      "outputs": []
    },
    {
      "cell_type": "code",
      "source": [
        "ArbolEstimarGanancia <- function(semilla, training_pct, param_basicos) {\n",
        "  # particiono estratificadamente el dataset\n",
        "  particionar(dataset,\n",
        "    division = c(training_pct, 100L -training_pct),\n",
        "    agrupa = \"clase_ternaria\",\n",
        "    seed = 100043 # aqui se usa SU semilla\n",
        "  )\n",
        "\n",
        "  # genero el modelo\n",
        "  # predecir clase_ternaria a partir del resto\n",
        "  modelo <- rpart(\"clase_ternaria ~ .\",\n",
        "    data = dataset[fold == 1], # fold==1  es training,  el 70% de los datos\n",
        "    xval = 0,\n",
        "    control = param_basicos\n",
        "  ) # aqui van los parametros del arbol\n",
        "\n",
        "  # aplico el modelo a los datos de testing\n",
        "  prediccion <- predict(modelo, # el modelo que genere recien\n",
        "    dataset[fold == 2], # fold==2  es testing, el 30% de los datos\n",
        "    type = \"prob\"\n",
        "  ) # type= \"prob\"  es que devuelva la probabilidad\n",
        "\n",
        "  # prediccion es una matriz con TRES columnas,\n",
        "  #  llamadas \"BAJA+1\", \"BAJA+2\"  y \"CONTINUA\"\n",
        "  # cada columna es el vector de probabilidades\n",
        "\n",
        "\n",
        "  # calculo la ganancia en testing  qu es fold==2\n",
        "  ganancia_test <- dataset[\n",
        "    fold == 2,\n",
        "    sum(ifelse(prediccion[, \"BAJA+2\"] > 0.025,\n",
        "      ifelse(clase_ternaria == \"BAJA+2\", 117000, -3000),\n",
        "      0\n",
        "    ))\n",
        "  ]\n",
        "\n",
        "  # escalo la ganancia como si fuera todo el dataset\n",
        "  ganancia_test_normalizada <- ganancia_test / (( 100 - PARAM$training_pct ) / 100 )\n",
        "\n",
        "  return(\n",
        "    c( list(\"semilla\" = semilla),\n",
        "      param_basicos,\n",
        "      list( \"ganancia_test\" = ganancia_test_normalizada )\n",
        "     )\n",
        "  )\n",
        "}\n"
      ],
      "metadata": {
        "id": "xsHwS1CzIA70"
      },
      "execution_count": 73,
      "outputs": []
    },
    {
      "cell_type": "code",
      "source": [
        "ArbolesMontecarlo <- function(semillas, param_basicos) {\n",
        "\n",
        "  # la funcion mcmapply  llama a la funcion ArbolEstimarGanancia\n",
        "  #  tantas veces como valores tenga el vector  PARAM$semillas\n",
        "  salida <- mcmapply(ArbolEstimarGanancia,\n",
        "    semillas, # paso el vector de semillas\n",
        "    MoreArgs = list(PARAM$training_pct, param_basicos), # aqui paso el segundo parametro\n",
        "    SIMPLIFY = FALSE,\n",
        "    mc.cores = detectCores()\n",
        "  )\n",
        "\n",
        "  return(salida)\n",
        "}\n"
      ],
      "metadata": {
        "id": "BvBVOuhqIEjD"
      },
      "execution_count": 74,
      "outputs": []
    },
    {
      "cell_type": "code",
      "source": [
        "# carpeta de trabajo\n",
        "# por fabor cambiar numero de experimento si se cambia el loop principal\n",
        "setwd(\"/content/buckets/b1/exp\")\n",
        "experimento <- \"HT2900\"\n",
        "dir.create(experimento, showWarnings=FALSE)\n",
        "setwd( paste0(\"/content/buckets/b1/exp/\", experimento ))"
      ],
      "metadata": {
        "id": "L-DOGHOjIG7G"
      },
      "execution_count": 75,
      "outputs": []
    },
    {
      "cell_type": "code",
      "source": [
        "# lectura del dataset\n",
        "dataset <- fread(\"/content/datasets/dataset_pequeno.csv\")\n",
        "\n",
        "# trabajo solo con los datos con clase, es decir 202107\n",
        "dataset <- dataset[clase_ternaria != \"\"]"
      ],
      "metadata": {
        "id": "NM-mrLWcIPo6"
      },
      "execution_count": 76,
      "outputs": []
    },
    {
      "cell_type": "code",
      "metadata": {
        "id": "819f894e"
      },
      "source": [
        "# lectura del dataset\n",
        "dataset <- fread(\"/content/datasets/dataset_pequeno.csv\")\n",
        "\n",
        "# trabajo solo con los datos con clase, es decir 202107\n",
        "dataset <- dataset[clase_ternaria != \"\"]"
      ],
      "execution_count": 77,
      "outputs": []
    },
    {
      "cell_type": "code",
      "source": [
        "\n",
        "# genero numeros primos\n",
        "primos <- generate_primes(min = 100000, max = 1000000)\n",
        "set.seed(PARAM$semilla_primigenia) # inicializo\n",
        "# me quedo con PARAM$qsemillas   semillas\n",
        "PARAM$semillas <- sample(primos, PARAM$qsemillas )\n"
      ],
      "metadata": {
        "id": "tSlY0EcgIWdi",
        "colab": {
          "base_uri": "https://localhost:8080/",
          "height": 263
        },
        "outputId": "fd853931-cbda-4d46-9c6e-8602be08d346"
      },
      "execution_count": 78,
      "outputs": [
        {
          "output_type": "error",
          "ename": "ERROR",
          "evalue": "Error in sample.int(length(x), size, replace, prob): cannot take a sample larger than the population when 'replace = FALSE'\n",
          "traceback": [
            "Error in sample.int(length(x), size, replace, prob): cannot take a sample larger than the population when 'replace = FALSE'\nTraceback:\n",
            "1. sample.int(length(x), size, replace, prob)",
            "2. .handleSimpleError(function (cnd) \n . {\n .     watcher$capture_plot_and_output()\n .     cnd <- sanitize_call(cnd)\n .     watcher$push(cnd)\n .     switch(on_error, continue = invokeRestart(\"eval_continue\"), \n .         stop = invokeRestart(\"eval_stop\"), error = NULL)\n . }, \"cannot take a sample larger than the population when 'replace = FALSE'\", \n .     base::quote(sample.int(length(x), size, replace, prob)))"
          ]
        }
      ]
    },
    {
      "cell_type": "code",
      "source": [
        "# genero la data.table donde van los resultados detallados del Grid Search\n",
        "# un registro para cada combinacion de < semilla, parametros >\n",
        "\n",
        "if(file.exists(\"gridsearch_detalle.txt\")){\n",
        "  tb_grid_search_detalle <- fread(\"gridsearch_detalle.txt\")\n",
        "}else{\n",
        "  tb_grid_search_detalle <- data.table(\n",
        "    semilla = integer(),\n",
        "    cp = numeric(),\n",
        "    maxdepth = integer(),\n",
        "   minsplit = integer(),\n",
        "    minbucket = integer(),\n",
        "    ganancia_test = numeric()\n",
        "  )\n",
        "}\n",
        "\n",
        "nrow( tb_grid_search_detalle )"
      ],
      "metadata": {
        "id": "xxCAwIKyIaTl",
        "outputId": "b4117b3e-0cde-4113-854c-318666c6b3be",
        "colab": {
          "base_uri": "https://localhost:8080/",
          "height": 34
        }
      },
      "execution_count": 79,
      "outputs": [
        {
          "output_type": "display_data",
          "data": {
            "text/html": [
              "54"
            ],
            "text/markdown": "54",
            "text/latex": "54",
            "text/plain": [
              "[1] 54"
            ]
          },
          "metadata": {}
        }
      ]
    },
    {
      "cell_type": "markdown",
      "source": [
        "Esta es la parte del código que usted debe expandir a TODOS los hiperparámetros de rpart,\n",
        "<br>ya que actualmente apenas recorre  maxdepth y  minsplit  dejando fijos  cp=-0.5  y minbucket=5"
      ],
      "metadata": {
        "id": "eAuGBNL8IkOD"
      }
    },
    {
      "cell_type": "code",
      "source": [
        "\n",
        "# itero por los loops anidados para cada hiperparametro\n",
        "iter <- 0\n",
        "\n",
        "for (vmax_depth in c(4, 6, 8, 10, 12, 14)) {\n",
        "  for (vmin_split in c(1000, 800, 600, 400, 200, 100, 50, 20, 10)) {\n",
        "    # notar como se agrega\n",
        "\n",
        "    iter <- iter + 1\n",
        "    cat( iter, \" \" )\n",
        "    flush.console()\n",
        "    if( iter*PARAM$qsemillas < nrow(tb_grid_search_detalle)+1 ) next\n",
        "\n",
        "    # vminsplit  minima cantidad de registros en un nodo para hacer el split\n",
        "    param_basicos <- list(\n",
        "      \"cp\" = -0.5, # complejidad minima\n",
        "      \"maxdepth\" = vmax_depth, # profundidad máxima del arbol\n",
        "      \"minsplit\" = vmin_split, # tamaño minimo de nodo para hacer split\n",
        "      \"minbucket\" = 5 # minima cantidad de registros en una hoja\n",
        "    )\n",
        "\n",
        "    # Un solo llamado, con la semilla 17\n",
        "    ganancias <- ArbolesMontecarlo(PARAM$semillas, param_basicos)\n",
        "\n",
        "    # agrego a la tabla\n",
        "    tb_grid_search_detalle <- rbindlist(\n",
        "      list( tb_grid_search_detalle,\n",
        "            rbindlist(ganancias) )\n",
        "    )\n",
        "\n",
        "  }\n",
        "\n",
        "  # grabo cada vez TODA la tabla en el loop mas externo\n",
        "  fwrite( tb_grid_search_detalle,\n",
        "          file = \"gridsearch_detalle.txt\",\n",
        "          sep = \"\\t\" )\n",
        "}\n"
      ],
      "metadata": {
        "id": "ipLHm3STIfmb",
        "outputId": "c95aedbc-b76d-4bbe-8d45-09ec93b7b7ea",
        "colab": {
          "base_uri": "https://localhost:8080/"
        }
      },
      "execution_count": 80,
      "outputs": [
        {
          "output_type": "stream",
          "name": "stdout",
          "text": [
            "1  2  3  4  5  6  7  8  9  10  11  12  13  14  15  16  17  18  19  20  21  22  23  24  25  26  27  28  29  30  31  32  33  34  35  36  37  38  39  40  41  42  43  44  45  46  47  48  49  50  51  52  53  54  "
          ]
        }
      ]
    },
    {
      "cell_type": "code",
      "source": [
        "fwrite( tb_grid_search_detalle,\n",
        "   file = \"gridsearch_detalle.txt\",\n",
        "   sep = \"\\t\"\n",
        ")"
      ],
      "metadata": {
        "id": "WZaSqYBxiDFu"
      },
      "execution_count": 81,
      "outputs": []
    },
    {
      "cell_type": "code",
      "source": [
        "# cantidad de registros de la tabla\n",
        "nrow(tb_grid_search_detalle)"
      ],
      "metadata": {
        "id": "STp0duM-RYVJ",
        "colab": {
          "base_uri": "https://localhost:8080/",
          "height": 34
        },
        "outputId": "3a89291c-051a-499c-9dab-cd609cb77024"
      },
      "execution_count": 82,
      "outputs": [
        {
          "output_type": "display_data",
          "data": {
            "text/html": [
              "54"
            ],
            "text/markdown": "54",
            "text/latex": "54",
            "text/plain": [
              "[1] 54"
            ]
          },
          "metadata": {}
        }
      ]
    },
    {
      "cell_type": "code",
      "source": [
        "# muestro la tabla\n",
        "tb_grid_search_detalle"
      ],
      "metadata": {
        "id": "k7fhk_H0iNez",
        "colab": {
          "base_uri": "https://localhost:8080/",
          "height": 1000
        },
        "outputId": "cc09e4fc-6d57-42fb-a932-bf06f8c1c6f9"
      },
      "execution_count": 55,
      "outputs": [
        {
          "output_type": "display_data",
          "data": {
            "text/html": [
              "<table class=\"dataframe\">\n",
              "<caption>A data.table: 54 × 6</caption>\n",
              "<thead>\n",
              "\t<tr><th scope=col>semilla</th><th scope=col>cp</th><th scope=col>maxdepth</th><th scope=col>minsplit</th><th scope=col>minbucket</th><th scope=col>ganancia_test</th></tr>\n",
              "\t<tr><th scope=col>&lt;int&gt;</th><th scope=col>&lt;dbl&gt;</th><th scope=col>&lt;int&gt;</th><th scope=col>&lt;int&gt;</th><th scope=col>&lt;int&gt;</th><th scope=col>&lt;int&gt;</th></tr>\n",
              "</thead>\n",
              "<tbody>\n",
              "\t<tr><td>411991</td><td>-0.5</td><td> 4</td><td>1000</td><td>5</td><td>49800000</td></tr>\n",
              "\t<tr><td>411991</td><td>-0.5</td><td> 4</td><td> 800</td><td>5</td><td>49800000</td></tr>\n",
              "\t<tr><td>411991</td><td>-0.5</td><td> 4</td><td> 600</td><td>5</td><td>49800000</td></tr>\n",
              "\t<tr><td>411991</td><td>-0.5</td><td> 4</td><td> 400</td><td>5</td><td>49800000</td></tr>\n",
              "\t<tr><td>411991</td><td>-0.5</td><td> 4</td><td> 200</td><td>5</td><td>49800000</td></tr>\n",
              "\t<tr><td>411991</td><td>-0.5</td><td> 4</td><td> 100</td><td>5</td><td>50120000</td></tr>\n",
              "\t<tr><td>411991</td><td>-0.5</td><td> 4</td><td>  50</td><td>5</td><td>50120000</td></tr>\n",
              "\t<tr><td>411991</td><td>-0.5</td><td> 4</td><td>  20</td><td>5</td><td>50120000</td></tr>\n",
              "\t<tr><td>411991</td><td>-0.5</td><td> 4</td><td>  10</td><td>5</td><td>50120000</td></tr>\n",
              "\t<tr><td>411991</td><td>-0.5</td><td> 6</td><td>1000</td><td>5</td><td>47620000</td></tr>\n",
              "\t<tr><td>411991</td><td>-0.5</td><td> 6</td><td> 800</td><td>5</td><td>46950000</td></tr>\n",
              "\t<tr><td>411991</td><td>-0.5</td><td> 6</td><td> 600</td><td>5</td><td>46950000</td></tr>\n",
              "\t<tr><td>411991</td><td>-0.5</td><td> 6</td><td> 400</td><td>5</td><td>46950000</td></tr>\n",
              "\t<tr><td>411991</td><td>-0.5</td><td> 6</td><td> 200</td><td>5</td><td>46950000</td></tr>\n",
              "\t<tr><td>411991</td><td>-0.5</td><td> 6</td><td> 100</td><td>5</td><td>47270000</td></tr>\n",
              "\t<tr><td>411991</td><td>-0.5</td><td> 6</td><td>  50</td><td>5</td><td>47070000</td></tr>\n",
              "\t<tr><td>411991</td><td>-0.5</td><td> 6</td><td>  20</td><td>5</td><td>46730000</td></tr>\n",
              "\t<tr><td>411991</td><td>-0.5</td><td> 6</td><td>  10</td><td>5</td><td>46430000</td></tr>\n",
              "\t<tr><td>411991</td><td>-0.5</td><td> 8</td><td>1000</td><td>5</td><td>48080000</td></tr>\n",
              "\t<tr><td>411991</td><td>-0.5</td><td> 8</td><td> 800</td><td>5</td><td>47410000</td></tr>\n",
              "\t<tr><td>411991</td><td>-0.5</td><td> 8</td><td> 600</td><td>5</td><td>47410000</td></tr>\n",
              "\t<tr><td>411991</td><td>-0.5</td><td> 8</td><td> 400</td><td>5</td><td>47350000</td></tr>\n",
              "\t<tr><td>411991</td><td>-0.5</td><td> 8</td><td> 200</td><td>5</td><td>47350000</td></tr>\n",
              "\t<tr><td>411991</td><td>-0.5</td><td> 8</td><td> 100</td><td>5</td><td>47470000</td></tr>\n",
              "\t<tr><td>411991</td><td>-0.5</td><td> 8</td><td>  50</td><td>5</td><td>46730000</td></tr>\n",
              "\t<tr><td>411991</td><td>-0.5</td><td> 8</td><td>  20</td><td>5</td><td>45080000</td></tr>\n",
              "\t<tr><td>411991</td><td>-0.5</td><td> 8</td><td>  10</td><td>5</td><td>44910000</td></tr>\n",
              "\t<tr><td>411991</td><td>-0.5</td><td>10</td><td>1000</td><td>5</td><td>47980000</td></tr>\n",
              "\t<tr><td>411991</td><td>-0.5</td><td>10</td><td> 800</td><td>5</td><td>47310000</td></tr>\n",
              "\t<tr><td>411991</td><td>-0.5</td><td>10</td><td> 600</td><td>5</td><td>47240000</td></tr>\n",
              "\t<tr><td>411991</td><td>-0.5</td><td>10</td><td> 400</td><td>5</td><td>44490000</td></tr>\n",
              "\t<tr><td>411991</td><td>-0.5</td><td>10</td><td> 200</td><td>5</td><td>44490000</td></tr>\n",
              "\t<tr><td>411991</td><td>-0.5</td><td>10</td><td> 100</td><td>5</td><td>42960000</td></tr>\n",
              "\t<tr><td>411991</td><td>-0.5</td><td>10</td><td>  50</td><td>5</td><td>40030000</td></tr>\n",
              "\t<tr><td>411991</td><td>-0.5</td><td>10</td><td>  20</td><td>5</td><td>38220000</td></tr>\n",
              "\t<tr><td>411991</td><td>-0.5</td><td>10</td><td>  10</td><td>5</td><td>36370000</td></tr>\n",
              "\t<tr><td>411991</td><td>-0.5</td><td>12</td><td>1000</td><td>5</td><td>47200000</td></tr>\n",
              "\t<tr><td>411991</td><td>-0.5</td><td>12</td><td> 800</td><td>5</td><td>46490000</td></tr>\n",
              "\t<tr><td>411991</td><td>-0.5</td><td>12</td><td> 600</td><td>5</td><td>46540000</td></tr>\n",
              "\t<tr><td>411991</td><td>-0.5</td><td>12</td><td> 400</td><td>5</td><td>43950000</td></tr>\n",
              "\t<tr><td>411991</td><td>-0.5</td><td>12</td><td> 200</td><td>5</td><td>40560000</td></tr>\n",
              "\t<tr><td>411991</td><td>-0.5</td><td>12</td><td> 100</td><td>5</td><td>39150000</td></tr>\n",
              "\t<tr><td>411991</td><td>-0.5</td><td>12</td><td>  50</td><td>5</td><td>34880000</td></tr>\n",
              "\t<tr><td>411991</td><td>-0.5</td><td>12</td><td>  20</td><td>5</td><td>30290000</td></tr>\n",
              "\t<tr><td>411991</td><td>-0.5</td><td>12</td><td>  10</td><td>5</td><td>27670000</td></tr>\n",
              "\t<tr><td>411991</td><td>-0.5</td><td>14</td><td>1000</td><td>5</td><td>47120000</td></tr>\n",
              "\t<tr><td>411991</td><td>-0.5</td><td>14</td><td> 800</td><td>5</td><td>47850000</td></tr>\n",
              "\t<tr><td>411991</td><td>-0.5</td><td>14</td><td> 600</td><td>5</td><td>48140000</td></tr>\n",
              "\t<tr><td>411991</td><td>-0.5</td><td>14</td><td> 400</td><td>5</td><td>45760000</td></tr>\n",
              "\t<tr><td>411991</td><td>-0.5</td><td>14</td><td> 200</td><td>5</td><td>43100000</td></tr>\n",
              "\t<tr><td>411991</td><td>-0.5</td><td>14</td><td> 100</td><td>5</td><td>41850000</td></tr>\n",
              "\t<tr><td>411991</td><td>-0.5</td><td>14</td><td>  50</td><td>5</td><td>37190000</td></tr>\n",
              "\t<tr><td>411991</td><td>-0.5</td><td>14</td><td>  20</td><td>5</td><td>29930000</td></tr>\n",
              "\t<tr><td>411991</td><td>-0.5</td><td>14</td><td>  10</td><td>5</td><td>26310000</td></tr>\n",
              "</tbody>\n",
              "</table>\n"
            ],
            "text/markdown": "\nA data.table: 54 × 6\n\n| semilla &lt;int&gt; | cp &lt;dbl&gt; | maxdepth &lt;int&gt; | minsplit &lt;int&gt; | minbucket &lt;int&gt; | ganancia_test &lt;int&gt; |\n|---|---|---|---|---|---|\n| 411991 | -0.5 |  4 | 1000 | 5 | 49800000 |\n| 411991 | -0.5 |  4 |  800 | 5 | 49800000 |\n| 411991 | -0.5 |  4 |  600 | 5 | 49800000 |\n| 411991 | -0.5 |  4 |  400 | 5 | 49800000 |\n| 411991 | -0.5 |  4 |  200 | 5 | 49800000 |\n| 411991 | -0.5 |  4 |  100 | 5 | 50120000 |\n| 411991 | -0.5 |  4 |   50 | 5 | 50120000 |\n| 411991 | -0.5 |  4 |   20 | 5 | 50120000 |\n| 411991 | -0.5 |  4 |   10 | 5 | 50120000 |\n| 411991 | -0.5 |  6 | 1000 | 5 | 47620000 |\n| 411991 | -0.5 |  6 |  800 | 5 | 46950000 |\n| 411991 | -0.5 |  6 |  600 | 5 | 46950000 |\n| 411991 | -0.5 |  6 |  400 | 5 | 46950000 |\n| 411991 | -0.5 |  6 |  200 | 5 | 46950000 |\n| 411991 | -0.5 |  6 |  100 | 5 | 47270000 |\n| 411991 | -0.5 |  6 |   50 | 5 | 47070000 |\n| 411991 | -0.5 |  6 |   20 | 5 | 46730000 |\n| 411991 | -0.5 |  6 |   10 | 5 | 46430000 |\n| 411991 | -0.5 |  8 | 1000 | 5 | 48080000 |\n| 411991 | -0.5 |  8 |  800 | 5 | 47410000 |\n| 411991 | -0.5 |  8 |  600 | 5 | 47410000 |\n| 411991 | -0.5 |  8 |  400 | 5 | 47350000 |\n| 411991 | -0.5 |  8 |  200 | 5 | 47350000 |\n| 411991 | -0.5 |  8 |  100 | 5 | 47470000 |\n| 411991 | -0.5 |  8 |   50 | 5 | 46730000 |\n| 411991 | -0.5 |  8 |   20 | 5 | 45080000 |\n| 411991 | -0.5 |  8 |   10 | 5 | 44910000 |\n| 411991 | -0.5 | 10 | 1000 | 5 | 47980000 |\n| 411991 | -0.5 | 10 |  800 | 5 | 47310000 |\n| 411991 | -0.5 | 10 |  600 | 5 | 47240000 |\n| 411991 | -0.5 | 10 |  400 | 5 | 44490000 |\n| 411991 | -0.5 | 10 |  200 | 5 | 44490000 |\n| 411991 | -0.5 | 10 |  100 | 5 | 42960000 |\n| 411991 | -0.5 | 10 |   50 | 5 | 40030000 |\n| 411991 | -0.5 | 10 |   20 | 5 | 38220000 |\n| 411991 | -0.5 | 10 |   10 | 5 | 36370000 |\n| 411991 | -0.5 | 12 | 1000 | 5 | 47200000 |\n| 411991 | -0.5 | 12 |  800 | 5 | 46490000 |\n| 411991 | -0.5 | 12 |  600 | 5 | 46540000 |\n| 411991 | -0.5 | 12 |  400 | 5 | 43950000 |\n| 411991 | -0.5 | 12 |  200 | 5 | 40560000 |\n| 411991 | -0.5 | 12 |  100 | 5 | 39150000 |\n| 411991 | -0.5 | 12 |   50 | 5 | 34880000 |\n| 411991 | -0.5 | 12 |   20 | 5 | 30290000 |\n| 411991 | -0.5 | 12 |   10 | 5 | 27670000 |\n| 411991 | -0.5 | 14 | 1000 | 5 | 47120000 |\n| 411991 | -0.5 | 14 |  800 | 5 | 47850000 |\n| 411991 | -0.5 | 14 |  600 | 5 | 48140000 |\n| 411991 | -0.5 | 14 |  400 | 5 | 45760000 |\n| 411991 | -0.5 | 14 |  200 | 5 | 43100000 |\n| 411991 | -0.5 | 14 |  100 | 5 | 41850000 |\n| 411991 | -0.5 | 14 |   50 | 5 | 37190000 |\n| 411991 | -0.5 | 14 |   20 | 5 | 29930000 |\n| 411991 | -0.5 | 14 |   10 | 5 | 26310000 |\n\n",
            "text/latex": "A data.table: 54 × 6\n\\begin{tabular}{llllll}\n semilla & cp & maxdepth & minsplit & minbucket & ganancia\\_test\\\\\n <int> & <dbl> & <int> & <int> & <int> & <int>\\\\\n\\hline\n\t 411991 & -0.5 &  4 & 1000 & 5 & 49800000\\\\\n\t 411991 & -0.5 &  4 &  800 & 5 & 49800000\\\\\n\t 411991 & -0.5 &  4 &  600 & 5 & 49800000\\\\\n\t 411991 & -0.5 &  4 &  400 & 5 & 49800000\\\\\n\t 411991 & -0.5 &  4 &  200 & 5 & 49800000\\\\\n\t 411991 & -0.5 &  4 &  100 & 5 & 50120000\\\\\n\t 411991 & -0.5 &  4 &   50 & 5 & 50120000\\\\\n\t 411991 & -0.5 &  4 &   20 & 5 & 50120000\\\\\n\t 411991 & -0.5 &  4 &   10 & 5 & 50120000\\\\\n\t 411991 & -0.5 &  6 & 1000 & 5 & 47620000\\\\\n\t 411991 & -0.5 &  6 &  800 & 5 & 46950000\\\\\n\t 411991 & -0.5 &  6 &  600 & 5 & 46950000\\\\\n\t 411991 & -0.5 &  6 &  400 & 5 & 46950000\\\\\n\t 411991 & -0.5 &  6 &  200 & 5 & 46950000\\\\\n\t 411991 & -0.5 &  6 &  100 & 5 & 47270000\\\\\n\t 411991 & -0.5 &  6 &   50 & 5 & 47070000\\\\\n\t 411991 & -0.5 &  6 &   20 & 5 & 46730000\\\\\n\t 411991 & -0.5 &  6 &   10 & 5 & 46430000\\\\\n\t 411991 & -0.5 &  8 & 1000 & 5 & 48080000\\\\\n\t 411991 & -0.5 &  8 &  800 & 5 & 47410000\\\\\n\t 411991 & -0.5 &  8 &  600 & 5 & 47410000\\\\\n\t 411991 & -0.5 &  8 &  400 & 5 & 47350000\\\\\n\t 411991 & -0.5 &  8 &  200 & 5 & 47350000\\\\\n\t 411991 & -0.5 &  8 &  100 & 5 & 47470000\\\\\n\t 411991 & -0.5 &  8 &   50 & 5 & 46730000\\\\\n\t 411991 & -0.5 &  8 &   20 & 5 & 45080000\\\\\n\t 411991 & -0.5 &  8 &   10 & 5 & 44910000\\\\\n\t 411991 & -0.5 & 10 & 1000 & 5 & 47980000\\\\\n\t 411991 & -0.5 & 10 &  800 & 5 & 47310000\\\\\n\t 411991 & -0.5 & 10 &  600 & 5 & 47240000\\\\\n\t 411991 & -0.5 & 10 &  400 & 5 & 44490000\\\\\n\t 411991 & -0.5 & 10 &  200 & 5 & 44490000\\\\\n\t 411991 & -0.5 & 10 &  100 & 5 & 42960000\\\\\n\t 411991 & -0.5 & 10 &   50 & 5 & 40030000\\\\\n\t 411991 & -0.5 & 10 &   20 & 5 & 38220000\\\\\n\t 411991 & -0.5 & 10 &   10 & 5 & 36370000\\\\\n\t 411991 & -0.5 & 12 & 1000 & 5 & 47200000\\\\\n\t 411991 & -0.5 & 12 &  800 & 5 & 46490000\\\\\n\t 411991 & -0.5 & 12 &  600 & 5 & 46540000\\\\\n\t 411991 & -0.5 & 12 &  400 & 5 & 43950000\\\\\n\t 411991 & -0.5 & 12 &  200 & 5 & 40560000\\\\\n\t 411991 & -0.5 & 12 &  100 & 5 & 39150000\\\\\n\t 411991 & -0.5 & 12 &   50 & 5 & 34880000\\\\\n\t 411991 & -0.5 & 12 &   20 & 5 & 30290000\\\\\n\t 411991 & -0.5 & 12 &   10 & 5 & 27670000\\\\\n\t 411991 & -0.5 & 14 & 1000 & 5 & 47120000\\\\\n\t 411991 & -0.5 & 14 &  800 & 5 & 47850000\\\\\n\t 411991 & -0.5 & 14 &  600 & 5 & 48140000\\\\\n\t 411991 & -0.5 & 14 &  400 & 5 & 45760000\\\\\n\t 411991 & -0.5 & 14 &  200 & 5 & 43100000\\\\\n\t 411991 & -0.5 & 14 &  100 & 5 & 41850000\\\\\n\t 411991 & -0.5 & 14 &   50 & 5 & 37190000\\\\\n\t 411991 & -0.5 & 14 &   20 & 5 & 29930000\\\\\n\t 411991 & -0.5 & 14 &   10 & 5 & 26310000\\\\\n\\end{tabular}\n",
            "text/plain": [
              "   semilla cp   maxdepth minsplit minbucket ganancia_test\n",
              "1  411991  -0.5  4       1000     5         49800000     \n",
              "2  411991  -0.5  4        800     5         49800000     \n",
              "3  411991  -0.5  4        600     5         49800000     \n",
              "4  411991  -0.5  4        400     5         49800000     \n",
              "5  411991  -0.5  4        200     5         49800000     \n",
              "6  411991  -0.5  4        100     5         50120000     \n",
              "7  411991  -0.5  4         50     5         50120000     \n",
              "8  411991  -0.5  4         20     5         50120000     \n",
              "9  411991  -0.5  4         10     5         50120000     \n",
              "10 411991  -0.5  6       1000     5         47620000     \n",
              "11 411991  -0.5  6        800     5         46950000     \n",
              "12 411991  -0.5  6        600     5         46950000     \n",
              "13 411991  -0.5  6        400     5         46950000     \n",
              "14 411991  -0.5  6        200     5         46950000     \n",
              "15 411991  -0.5  6        100     5         47270000     \n",
              "16 411991  -0.5  6         50     5         47070000     \n",
              "17 411991  -0.5  6         20     5         46730000     \n",
              "18 411991  -0.5  6         10     5         46430000     \n",
              "19 411991  -0.5  8       1000     5         48080000     \n",
              "20 411991  -0.5  8        800     5         47410000     \n",
              "21 411991  -0.5  8        600     5         47410000     \n",
              "22 411991  -0.5  8        400     5         47350000     \n",
              "23 411991  -0.5  8        200     5         47350000     \n",
              "24 411991  -0.5  8        100     5         47470000     \n",
              "25 411991  -0.5  8         50     5         46730000     \n",
              "26 411991  -0.5  8         20     5         45080000     \n",
              "27 411991  -0.5  8         10     5         44910000     \n",
              "28 411991  -0.5 10       1000     5         47980000     \n",
              "29 411991  -0.5 10        800     5         47310000     \n",
              "30 411991  -0.5 10        600     5         47240000     \n",
              "31 411991  -0.5 10        400     5         44490000     \n",
              "32 411991  -0.5 10        200     5         44490000     \n",
              "33 411991  -0.5 10        100     5         42960000     \n",
              "34 411991  -0.5 10         50     5         40030000     \n",
              "35 411991  -0.5 10         20     5         38220000     \n",
              "36 411991  -0.5 10         10     5         36370000     \n",
              "37 411991  -0.5 12       1000     5         47200000     \n",
              "38 411991  -0.5 12        800     5         46490000     \n",
              "39 411991  -0.5 12        600     5         46540000     \n",
              "40 411991  -0.5 12        400     5         43950000     \n",
              "41 411991  -0.5 12        200     5         40560000     \n",
              "42 411991  -0.5 12        100     5         39150000     \n",
              "43 411991  -0.5 12         50     5         34880000     \n",
              "44 411991  -0.5 12         20     5         30290000     \n",
              "45 411991  -0.5 12         10     5         27670000     \n",
              "46 411991  -0.5 14       1000     5         47120000     \n",
              "47 411991  -0.5 14        800     5         47850000     \n",
              "48 411991  -0.5 14        600     5         48140000     \n",
              "49 411991  -0.5 14        400     5         45760000     \n",
              "50 411991  -0.5 14        200     5         43100000     \n",
              "51 411991  -0.5 14        100     5         41850000     \n",
              "52 411991  -0.5 14         50     5         37190000     \n",
              "53 411991  -0.5 14         20     5         29930000     \n",
              "54 411991  -0.5 14         10     5         26310000     "
            ]
          },
          "metadata": {}
        }
      ]
    },
    {
      "cell_type": "code",
      "source": [
        "# genero y grabo el resumen\n",
        "tb_grid_search <- tb_grid_search_detalle[,\n",
        "  list( \"ganancia_mean\" = mean(ganancia_test),\n",
        "    \"qty\" = .N ),\n",
        "  list( cp, maxdepth, minsplit, minbucket )\n",
        "]\n"
      ],
      "metadata": {
        "id": "DjCxtx8bIsgl"
      },
      "execution_count": 30,
      "outputs": []
    },
    {
      "cell_type": "code",
      "source": [
        "# ordeno descendente por ganancia\n",
        "setorder( tb_grid_search, -ganancia_mean )\n"
      ],
      "metadata": {
        "id": "LU29UhL1Ivg5"
      },
      "execution_count": 56,
      "outputs": []
    },
    {
      "cell_type": "code",
      "source": [
        "# veo los 10 mejores hiperparámetros\n",
        "tb_grid_search[1:10]"
      ],
      "metadata": {
        "id": "g-EjGY7aIyWL",
        "colab": {
          "base_uri": "https://localhost:8080/",
          "height": 411
        },
        "outputId": "34d007ec-c3e3-4baf-f218-d7b07031321f"
      },
      "execution_count": 57,
      "outputs": [
        {
          "output_type": "display_data",
          "data": {
            "text/html": [
              "<table class=\"dataframe\">\n",
              "<caption>A data.table: 10 × 7</caption>\n",
              "<thead>\n",
              "\t<tr><th scope=col>cp</th><th scope=col>maxdepth</th><th scope=col>minsplit</th><th scope=col>minbucket</th><th scope=col>ganancia_mean</th><th scope=col>qty</th><th scope=col>id</th></tr>\n",
              "\t<tr><th scope=col>&lt;dbl&gt;</th><th scope=col>&lt;dbl&gt;</th><th scope=col>&lt;dbl&gt;</th><th scope=col>&lt;dbl&gt;</th><th scope=col>&lt;dbl&gt;</th><th scope=col>&lt;int&gt;</th><th scope=col>&lt;int&gt;</th></tr>\n",
              "</thead>\n",
              "<tbody>\n",
              "\t<tr><td>-0.5</td><td> 4</td><td> 100</td><td>5</td><td>50120000</td><td>1</td><td> 1</td></tr>\n",
              "\t<tr><td>-0.5</td><td> 4</td><td>  50</td><td>5</td><td>50120000</td><td>1</td><td> 2</td></tr>\n",
              "\t<tr><td>-0.5</td><td> 4</td><td>  20</td><td>5</td><td>50120000</td><td>1</td><td> 3</td></tr>\n",
              "\t<tr><td>-0.5</td><td> 4</td><td>  10</td><td>5</td><td>50120000</td><td>1</td><td> 4</td></tr>\n",
              "\t<tr><td>-0.5</td><td> 4</td><td>1000</td><td>5</td><td>49800000</td><td>1</td><td> 5</td></tr>\n",
              "\t<tr><td>-0.5</td><td> 4</td><td> 800</td><td>5</td><td>49800000</td><td>1</td><td> 6</td></tr>\n",
              "\t<tr><td>-0.5</td><td> 4</td><td> 600</td><td>5</td><td>49800000</td><td>1</td><td> 7</td></tr>\n",
              "\t<tr><td>-0.5</td><td> 4</td><td> 400</td><td>5</td><td>49800000</td><td>1</td><td> 8</td></tr>\n",
              "\t<tr><td>-0.5</td><td> 4</td><td> 200</td><td>5</td><td>49800000</td><td>1</td><td> 9</td></tr>\n",
              "\t<tr><td>-0.5</td><td>14</td><td> 600</td><td>5</td><td>48140000</td><td>1</td><td>10</td></tr>\n",
              "</tbody>\n",
              "</table>\n"
            ],
            "text/markdown": "\nA data.table: 10 × 7\n\n| cp &lt;dbl&gt; | maxdepth &lt;dbl&gt; | minsplit &lt;dbl&gt; | minbucket &lt;dbl&gt; | ganancia_mean &lt;dbl&gt; | qty &lt;int&gt; | id &lt;int&gt; |\n|---|---|---|---|---|---|---|\n| -0.5 |  4 |  100 | 5 | 50120000 | 1 |  1 |\n| -0.5 |  4 |   50 | 5 | 50120000 | 1 |  2 |\n| -0.5 |  4 |   20 | 5 | 50120000 | 1 |  3 |\n| -0.5 |  4 |   10 | 5 | 50120000 | 1 |  4 |\n| -0.5 |  4 | 1000 | 5 | 49800000 | 1 |  5 |\n| -0.5 |  4 |  800 | 5 | 49800000 | 1 |  6 |\n| -0.5 |  4 |  600 | 5 | 49800000 | 1 |  7 |\n| -0.5 |  4 |  400 | 5 | 49800000 | 1 |  8 |\n| -0.5 |  4 |  200 | 5 | 49800000 | 1 |  9 |\n| -0.5 | 14 |  600 | 5 | 48140000 | 1 | 10 |\n\n",
            "text/latex": "A data.table: 10 × 7\n\\begin{tabular}{lllllll}\n cp & maxdepth & minsplit & minbucket & ganancia\\_mean & qty & id\\\\\n <dbl> & <dbl> & <dbl> & <dbl> & <dbl> & <int> & <int>\\\\\n\\hline\n\t -0.5 &  4 &  100 & 5 & 50120000 & 1 &  1\\\\\n\t -0.5 &  4 &   50 & 5 & 50120000 & 1 &  2\\\\\n\t -0.5 &  4 &   20 & 5 & 50120000 & 1 &  3\\\\\n\t -0.5 &  4 &   10 & 5 & 50120000 & 1 &  4\\\\\n\t -0.5 &  4 & 1000 & 5 & 49800000 & 1 &  5\\\\\n\t -0.5 &  4 &  800 & 5 & 49800000 & 1 &  6\\\\\n\t -0.5 &  4 &  600 & 5 & 49800000 & 1 &  7\\\\\n\t -0.5 &  4 &  400 & 5 & 49800000 & 1 &  8\\\\\n\t -0.5 &  4 &  200 & 5 & 49800000 & 1 &  9\\\\\n\t -0.5 & 14 &  600 & 5 & 48140000 & 1 & 10\\\\\n\\end{tabular}\n",
            "text/plain": [
              "   cp   maxdepth minsplit minbucket ganancia_mean qty id\n",
              "1  -0.5  4        100     5         50120000      1    1\n",
              "2  -0.5  4         50     5         50120000      1    2\n",
              "3  -0.5  4         20     5         50120000      1    3\n",
              "4  -0.5  4         10     5         50120000      1    4\n",
              "5  -0.5  4       1000     5         49800000      1    5\n",
              "6  -0.5  4        800     5         49800000      1    6\n",
              "7  -0.5  4        600     5         49800000      1    7\n",
              "8  -0.5  4        400     5         49800000      1    8\n",
              "9  -0.5  4        200     5         49800000      1    9\n",
              "10 -0.5 14        600     5         48140000      1   10"
            ]
          },
          "metadata": {}
        }
      ]
    },
    {
      "cell_type": "code",
      "source": [
        "# genero un id a la tabla\n",
        "tb_grid_search[, id := .I ]\n",
        "\n",
        "fwrite( tb_grid_search,\n",
        "  file = \"gridsearch.txt\",\n",
        "  sep = \"\\t\"\n",
        ")\n"
      ],
      "metadata": {
        "id": "K3S-I2PTI5ZE"
      },
      "execution_count": 58,
      "outputs": []
    },
    {
      "cell_type": "markdown",
      "source": [
        "# 4.  Análisis de resultados de Grid Search"
      ],
      "metadata": {
        "id": "1rYHk1YkI_9k"
      }
    },
    {
      "cell_type": "markdown",
      "source": [
        "La salida de la corrida anterior queda en ~/buckets/b1/exp/HT2900  que corresponde a su Google Drive\n",
        "<br>HT significa Hyperparameter Tuning\n",
        "<br>El Grid Search es un método de fuerza bruta de un altísimo costo computacional.\n",
        "<br>Queremos ver si es posible crear un algoritmo de optimización de hiperparámetros que se ahorre recorrer ciertas porciones muy malas del espacio de búsqueda. Algo del estilo “cada vez que pruebo una combinación de hiperparámetros donde  cp > 1 , la ganancia es muy mala, con lo cual ni vale la pena perder el tiempo explorando en esa region”\n"
      ],
      "metadata": {
        "id": "ZTJgPhMWJHTk"
      }
    },
    {
      "cell_type": "markdown",
      "source": [
        "<br>Levante el archivo de salida gridsearch.txt  a una planilla tipo Excel y analícelo detenidamente\n",
        "<br>Ordene por ganancia_mean descendente\n",
        "<br>\n",
        "<br>El de mayor ganancia_mean  decimos que es el primero del ranking\n",
        "En Zulip, correspondiente channel  #Tarea Hogar 02 , topic Analisis Grid Search   intente contestar estas preguntas:\n",
        "\n",
        "* ¿Qué combinaciones de hiperparámetros poseen una ganancia muy buena?\n",
        "* ¿Hay algun hiperparámetro que para cierto valor siempre genera una ganancia muy mala, a independientemente de lo que valgan los otros hiperparámetros ?\n",
        "* ¿Que combinaciones de hiperparámetros es pésima y hubiera sido bueno ahorrarse esas corridas ?\n",
        "\n",
        "( tiempo estimado 30 minutos, dificultad media )"
      ],
      "metadata": {
        "id": "IaVgMu4tPwyB"
      }
    }
  ]
}