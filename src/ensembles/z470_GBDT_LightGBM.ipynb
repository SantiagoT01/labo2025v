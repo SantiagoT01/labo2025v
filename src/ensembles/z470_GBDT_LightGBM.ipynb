{
  "nbformat": 4,
  "nbformat_minor": 0,
  "metadata": {
    "colab": {
      "provenance": []
    },
    "kernelspec": {
      "name": "ir",
      "display_name": "R"
    },
    "language_info": {
      "name": "R"
    }
  },
  "cells": [
    {
      "cell_type": "markdown",
      "source": [
        "# 4. Ensembles de Arboles de Decision"
      ],
      "metadata": {
        "id": "O94qX1svwzoC"
      }
    },
    {
      "cell_type": "markdown",
      "source": [
        "## 4.06 GBDT LightGBM"
      ],
      "metadata": {
        "id": "HsJFTcBZw1bE"
      }
    },
    {
      "cell_type": "markdown",
      "source": [
        "La técnica de Gradient Boosting fue creada por Jerome H. Friedman en 1999 - 2001\n",
        "<br>Se implementaron librerías ineficientes\n",
        "<br>En 2016 se crea XGBoost, en 2017 LightGBM\n",
        "\n",
        "\n"
      ],
      "metadata": {
        "id": "nsgvDbemw9Tc"
      }
    },
    {
      "cell_type": "markdown",
      "source": [
        "Paper original de  Gradient Boosting\n",
        "\n",
        "\n",
        "Friedman JH. Greedy function approximation: A gradient\n",
        "boosting machine. Ann Stat. 2001;29(5):1189–232. https://\n",
        "doi.org/10.1214/aos/1013203451.\n",
        "<br>\n",
        "https://projecteuclid.org/journals/annals-of-statistics/volume-29/issue-5/Greedy-function-approximation-A-gradient-boosting-machine/10.1214/aos/1013203451.pdf"
      ],
      "metadata": {
        "id": "1o-6jjy0Yedk"
      }
    },
    {
      "cell_type": "markdown",
      "source": [
        "Paper XGBoost\n",
        "\n",
        "Chen, T.; Guestrin, C. Xgboost: A scalable tree boosting system. In Proceedings of the 22nd ACM Sigkdd International Conference on Knowledge Discovery and Data Mining, San Francisco, CA, USA, 13–17 August 2016; pp. 785–794.\n",
        "\n",
        "https://dl.acm.org/doi/pdf/10.1145/2939672.2939785"
      ],
      "metadata": {
        "id": "14MlfCxMZWIc"
      }
    },
    {
      "cell_type": "markdown",
      "source": [
        "Paper  LightGBM\n",
        "\n",
        "Ke G., Meng Q., Finley T., Wang T., Chen W., Ma W., et al.\n",
        "Lightgbm: A highly efficient gradient boosting decision tree\n",
        "Advances in Neural Information Processing Systems, 30 (2017)\n",
        "\n",
        "https://proceedings.neurips.cc/paper/2017/file/6449f44a102fde848669bdd9eb6b76fa-Paper.pdf"
      ],
      "metadata": {
        "id": "IDk5edloZpBI"
      }
    },
    {
      "cell_type": "markdown",
      "source": [
        "Videos \"simplificados\" :\n",
        "*  https://www.youtube.com/watch?v=3CC4N4z3GJc\n",
        "*  https://www.youtube.com/watch?v=2xudPOBz-vs\n",
        "*  https://www.youtube.com/watch?v=jxuNLH5dXCs\n",
        "*  https://www.youtube.com/watch?v=StWY5QWMXCw"
      ],
      "metadata": {
        "id": "ZMyXpQyJaCsP"
      }
    },
    {
      "cell_type": "markdown",
      "source": [
        "Artículos ligeros:\n",
        "*  https://machinelearningmastery.com/gentle-introduction-gradient-boosting-algorithm-machine-learning/\n",
        "*   https://www.machinelearningplus.com/machine-learning/an-introduction-to-gradient-boosting-decision-trees/\n",
        "*   https://medium.com/@ruchi.awasthi63/gradient-boosted-decision-tree-clearly-explained-bd1d8c7d9923\n",
        "*   https://medium.com/data-science/a-visual-understanding-of-decision-trees-and-gradient-boosting-c6bc53f982ce\n",
        "*   https://medium.com/analytics-vidhya/introduction-to-the-gradient-boosting-algorithm-c25c653f826b\n",
        "*   https://medium.com/@datasciencewizards/understanding-the-gradient-boosting-algorithm-9fe698a352ad"
      ],
      "metadata": {
        "id": "Eyffb3AAahth"
      }
    },
    {
      "cell_type": "markdown",
      "source": [
        "El Gradient Boosting of Decision Trees es un ensemble de árboles de decisión, para un nuevo registro la predicción se hace sumando el score que cada arbol asigna a ese registro.\n",
        "\n",
        "En GBDT la construccion de los árboles es secuencial, ya que el arbol n-simo se genera para predecir el error del modelo conformado por los n-1 arboles previos, aunque sea un arbol de clasificación lo que se predice es un numero real mediante un arbol de regresión."
      ],
      "metadata": {
        "id": "0YOyfUaESdsX"
      }
    },
    {
      "cell_type": "markdown",
      "source": [
        "<br>Qué tipo de perturbaciones se realiza LightGBM\n",
        "\n",
        "*   Se perturba el dataset, seleccionando para cada arbol un subconjunto de las columnas.\n",
        "*   El algortimo de arbol de decisión no presenta perturbaciones"
      ],
      "metadata": {
        "id": "nF6XblBIYnY6"
      }
    },
    {
      "cell_type": "markdown",
      "source": [
        "Cada arbolito de LightGBM se entrena sobre un dataset perturbado, que en principio posee :\n",
        "* todos los registros del dataset original\n",
        "* solo un porcentaje *feature_fraction* de las columnas originales del dataset"
      ],
      "metadata": {
        "id": "j75A--Tsx2df"
      }
    },
    {
      "cell_type": "markdown",
      "source": [
        "#### 4.06.1  Seteo del ambiente en Google Colab"
      ],
      "metadata": {
        "id": "PX0qg_c0yqob"
      }
    },
    {
      "cell_type": "markdown",
      "metadata": {
        "id": "NGY7H9xza7Zr"
      },
      "source": [
        "Esta parte se debe correr con el runtime en Python3\n",
        "<br>Ir al menu, Runtime -> Change Runtime Type -> Runtime type ->  **Python 3**"
      ]
    },
    {
      "cell_type": "markdown",
      "metadata": {
        "id": "7PupIBNba7Zr"
      },
      "source": [
        "Conectar la virtual machine donde esta corriendo Google Colab con el  Google Drive, para poder tener persistencia de archivos"
      ]
    },
    {
      "cell_type": "code",
      "execution_count": 1,
      "metadata": {
        "id": "9LpZCst5a7Zs",
        "colab": {
          "base_uri": "https://localhost:8080/"
        },
        "outputId": "20a203ca-3763-4aff-c671-75575b91ee91"
      },
      "outputs": [
        {
          "output_type": "stream",
          "name": "stdout",
          "text": [
            "Mounted at /content/.drive\n"
          ]
        }
      ],
      "source": [
        "# primero establecer el Runtime de Python 3\n",
        "from google.colab import drive\n",
        "drive.mount('/content/.drive')"
      ]
    },
    {
      "cell_type": "markdown",
      "metadata": {
        "id": "JYC_F-wla7Zs"
      },
      "source": [
        "Para correr la siguiente celda es fundamental en Arranque en Frio haber copiado el archivo kaggle.json al Google Drive, en la carpeta indicada en el instructivo\n",
        "\n",
        "<br>los siguientes comando estan en shell script de Linux\n",
        "*   Crear las carpetas en el Google Drive\n",
        "*   \"instalar\" el archivo kaggle.json desde el Google Drive a la virtual machine para que pueda ser utilizado por la libreria  kaggle de Python\n",
        "*   Bajar el  **dataset_pequeno**  al  Google Drive  y tambien al disco local de la virtual machine que esta corriendo Google Colab\n",
        "\n"
      ]
    },
    {
      "cell_type": "code",
      "execution_count": 2,
      "metadata": {
        "id": "XWLelftXa7Zt",
        "colab": {
          "base_uri": "https://localhost:8080/"
        },
        "outputId": "ea606965-9638-4299-860d-af4830dd13bc"
      },
      "outputs": [
        {
          "output_type": "stream",
          "name": "stdout",
          "text": [
            "cp: cannot stat '/content/buckets/b1/kaggle/kaggle.json': No such file or directory\n",
            "chmod: cannot access '/root/.kaggle/kaggle.json': No such file or directory\n"
          ]
        },
        {
          "output_type": "execute_result",
          "data": {
            "text/plain": []
          },
          "metadata": {},
          "execution_count": 2
        }
      ],
      "source": [
        "%%shell\n",
        "\n",
        "mkdir -p \"/content/.drive/My Drive/labo1\"\n",
        "mkdir -p \"/content/buckets\"\n",
        "ln -s \"/content/.drive/My Drive/labo1\" /content/buckets/b1\n",
        "\n",
        "mkdir -p ~/.kaggle\n",
        "cp /content/buckets/b1/kaggle/kaggle.json  ~/.kaggle\n",
        "chmod 600 ~/.kaggle/kaggle.json\n",
        "\n",
        "\n",
        "mkdir -p /content/buckets/b1/exp\n",
        "mkdir -p /content/buckets/b1/datasets\n",
        "mkdir -p /content/datasets\n",
        "\n",
        "\n",
        "\n",
        "archivo_origen=\"https://storage.googleapis.com/open-courses/austral2025-af91/dataset_pequeno.csv\"\n",
        "archivo_destino=\"/content/datasets/dataset_pequeno.csv\"\n",
        "archivo_destino_bucket=\"/content/buckets/b1/datasets/dataset_pequeno.csv\"\n",
        "\n",
        "if ! test -f $archivo_destino_bucket; then\n",
        "  wget  $archivo_origen  -O $archivo_destino_bucket\n",
        "fi\n",
        "\n",
        "\n",
        "if ! test -f $archivo_destino; then\n",
        "  cp  $archivo_destino_bucket  $archivo_destino\n",
        "fi\n"
      ]
    },
    {
      "cell_type": "markdown",
      "source": [
        "### 4.07  LightGBM, una corrida"
      ],
      "metadata": {
        "id": "oSKhZRToy2F7"
      }
    },
    {
      "cell_type": "markdown",
      "metadata": {
        "id": "eSU5vi00CPRS"
      },
      "source": [
        "Esta parte se debe correr con el runtime en lenguaje **R** Ir al menu, Runtime -> Change Runtime Type -> Runtime type -> R"
      ]
    },
    {
      "cell_type": "markdown",
      "metadata": {
        "id": "Zq8dySimCPRT"
      },
      "source": [
        "limpio el ambiente de R"
      ]
    },
    {
      "cell_type": "code",
      "source": [
        "# Ejecuta un pequeño script JavaScript desde R para mantener activa la sesión\n",
        "IRdisplay::display_javascript(\"\n",
        "function clickConnect() {\n",
        "  console.log('Manteniendo sesión activa desde R...');\n",
        "  const btn = document.querySelector('#top-toolbar > colab-connect-button');\n",
        "  if (btn && btn.shadowRoot) {\n",
        "    const connect = btn.shadowRoot.querySelector('#connect');\n",
        "    if (connect) connect.click();\n",
        "  }\n",
        "}\n",
        "setInterval(clickConnect, 60000);\n",
        "\")"
      ],
      "metadata": {
        "colab": {
          "base_uri": "https://localhost:8080/",
          "height": 17
        },
        "id": "EeEuxlxGWZvY",
        "outputId": "7473291b-5c25-41c9-9eb3-d466a2263988"
      },
      "execution_count": 1,
      "outputs": [
        {
          "output_type": "display_data",
          "data": {
            "application/javascript": [
              "\n",
              "function clickConnect() {\n",
              "  console.log('Manteniendo sesión activa desde R...');\n",
              "  const btn = document.querySelector('#top-toolbar > colab-connect-button');\n",
              "  if (btn && btn.shadowRoot) {\n",
              "    const connect = btn.shadowRoot.querySelector('#connect');\n",
              "    if (connect) connect.click();\n",
              "  }\n",
              "}\n",
              "setInterval(clickConnect, 60000);\n"
            ]
          },
          "metadata": {}
        }
      ]
    },
    {
      "cell_type": "code",
      "source": [
        "format(Sys.time(), \"%a %b %d %X %Y\")"
      ],
      "metadata": {
        "id": "Tjda_YGOXaPw",
        "colab": {
          "base_uri": "https://localhost:8080/",
          "height": 34
        },
        "outputId": "ebe6882e-6a82-4bfd-8815-69554084c94c"
      },
      "execution_count": 2,
      "outputs": [
        {
          "output_type": "display_data",
          "data": {
            "text/html": [
              "'Wed Oct 29 12:24:11 AM 2025'"
            ],
            "text/markdown": "'Wed Oct 29 12:24:11 AM 2025'",
            "text/latex": "'Wed Oct 29 12:24:11 AM 2025'",
            "text/plain": [
              "[1] \"Wed Oct 29 12:24:11 AM 2025\""
            ]
          },
          "metadata": {}
        }
      ]
    },
    {
      "cell_type": "code",
      "execution_count": 3,
      "metadata": {
        "id": "1iE0U4_WCPRT",
        "colab": {
          "base_uri": "https://localhost:8080/",
          "height": 129
        },
        "outputId": "04ac27dd-2fc1-4b3c-c6d3-6aa574775751"
      },
      "outputs": [
        {
          "output_type": "display_data",
          "data": {
            "text/html": [
              "<table class=\"dataframe\">\n",
              "<caption>A matrix: 2 × 6 of type dbl</caption>\n",
              "<thead>\n",
              "\t<tr><th></th><th scope=col>used</th><th scope=col>(Mb)</th><th scope=col>gc trigger</th><th scope=col>(Mb)</th><th scope=col>max used</th><th scope=col>(Mb)</th></tr>\n",
              "</thead>\n",
              "<tbody>\n",
              "\t<tr><th scope=row>Ncells</th><td> 660533</td><td>35.3</td><td>1454468</td><td>77.7</td><td>1454468</td><td>77.7</td></tr>\n",
              "\t<tr><th scope=row>Vcells</th><td>1226915</td><td> 9.4</td><td>8388608</td><td>64.0</td><td>1975128</td><td>15.1</td></tr>\n",
              "</tbody>\n",
              "</table>\n"
            ],
            "text/markdown": "\nA matrix: 2 × 6 of type dbl\n\n| <!--/--> | used | (Mb) | gc trigger | (Mb) | max used | (Mb) |\n|---|---|---|---|---|---|---|\n| Ncells |  660533 | 35.3 | 1454468 | 77.7 | 1454468 | 77.7 |\n| Vcells | 1226915 |  9.4 | 8388608 | 64.0 | 1975128 | 15.1 |\n\n",
            "text/latex": "A matrix: 2 × 6 of type dbl\n\\begin{tabular}{r|llllll}\n  & used & (Mb) & gc trigger & (Mb) & max used & (Mb)\\\\\n\\hline\n\tNcells &  660533 & 35.3 & 1454468 & 77.7 & 1454468 & 77.7\\\\\n\tVcells & 1226915 &  9.4 & 8388608 & 64.0 & 1975128 & 15.1\\\\\n\\end{tabular}\n",
            "text/plain": [
              "       used    (Mb) gc trigger (Mb) max used (Mb)\n",
              "Ncells  660533 35.3 1454468    77.7 1454468  77.7\n",
              "Vcells 1226915  9.4 8388608    64.0 1975128  15.1"
            ]
          },
          "metadata": {}
        }
      ],
      "source": [
        "# limpio la memoria\n",
        "rm(list=ls(all.names=TRUE)) # remove all objects\n",
        "gc(full=TRUE, verbose=FALSE) # garbage collection"
      ]
    },
    {
      "cell_type": "code",
      "execution_count": 4,
      "metadata": {
        "id": "BJDwdD0dCPRU",
        "colab": {
          "base_uri": "https://localhost:8080/"
        },
        "outputId": "fab070e7-db09-4432-9e4c-478a5d9aa5bf"
      },
      "outputs": [
        {
          "output_type": "stream",
          "name": "stderr",
          "text": [
            "Loading required package: data.table\n",
            "\n",
            "Loading required package: rpart\n",
            "\n",
            "Loading required package: rlist\n",
            "\n",
            "Warning message in library(package, lib.loc = lib.loc, character.only = TRUE, logical.return = TRUE, :\n",
            "“there is no package called ‘rlist’”\n",
            "Installing package into ‘/usr/local/lib/R/site-library’\n",
            "(as ‘lib’ is unspecified)\n",
            "\n",
            "also installing the dependency ‘XML’\n",
            "\n",
            "\n",
            "Loading required package: rlist\n",
            "\n",
            "Loading required package: lightgbm\n",
            "\n",
            "Warning message in library(package, lib.loc = lib.loc, character.only = TRUE, logical.return = TRUE, :\n",
            "“there is no package called ‘lightgbm’”\n",
            "Installing package into ‘/usr/local/lib/R/site-library’\n",
            "(as ‘lib’ is unspecified)\n",
            "\n",
            "Loading required package: lightgbm\n",
            "\n"
          ]
        }
      ],
      "source": [
        "# cargo las librerias que necesito\n",
        "require(\"data.table\")\n",
        "require(\"rpart\")\n",
        "\n",
        "if( !require(\"rlist\") ) install.packages(\"rlist\")\n",
        "require(\"rlist\")\n",
        "\n",
        "if( !require(\"lightgbm\") ) install.packages(\"lightgbm\")\n",
        "require(\"lightgbm\")"
      ]
    },
    {
      "cell_type": "markdown",
      "source": [
        "Aqui debe cargar SU semilla primigenia"
      ],
      "metadata": {
        "id": "M8-Pyp6CCPRU"
      }
    },
    {
      "cell_type": "code",
      "source": [
        "PARAM <- list()\n",
        "PARAM$experimento <- 4070\n",
        "PARAM$semilla_primigenia <- 100043\n",
        "\n",
        "# estos hiperparametros de LightGBM surgieron de una Bayesian Optimization\n",
        "PARAM$lgb$num_iterations <- 1000  # cantidad de arbolitos\n",
        "PARAM$lgb$learning_rate <- 0.027\n",
        "PARAM$lgb$feature_fraction <- 0.8\n",
        "PARAM$lgb$min_data_in_leaf <- 76\n",
        "PARAM$lgb$num_leaves <- 8\n",
        "PARAM$lgb$max_bin <- 31\n"
      ],
      "metadata": {
        "id": "peRH7ySLCPRV"
      },
      "execution_count": 5,
      "outputs": []
    },
    {
      "cell_type": "code",
      "source": [
        "# carpeta de trabajo\n",
        "setwd(\"/content/buckets/b1/exp\")\n",
        "experimento_folder <- paste0(\"KA\", PARAM$experimento)\n",
        "dir.create(experimento_folder, showWarnings=FALSE)\n",
        "setwd( paste0(\"/content/buckets/b1/exp/\", experimento_folder ))"
      ],
      "metadata": {
        "id": "1gZD6ZMvCPRV"
      },
      "execution_count": 6,
      "outputs": []
    },
    {
      "cell_type": "code",
      "source": [
        "# lectura del dataset\n",
        "dataset <- fread(\"/content/datasets/dataset_pequeno.csv\", stringsAsFactors= TRUE)"
      ],
      "metadata": {
        "id": "Xi0emX2ECPRV"
      },
      "execution_count": 7,
      "outputs": []
    },
    {
      "cell_type": "code",
      "source": [
        "# paso la clase a binaria\n",
        "\n",
        "dataset[, clase01 := ifelse(clase_ternaria %in% c(\"BAJA+2\"), 1L, 0L)]"
      ],
      "metadata": {
        "id": "-3XuBeDy1Ugj"
      },
      "execution_count": 8,
      "outputs": []
    },
    {
      "cell_type": "code",
      "source": [
        "# los campos que se van a utilizar\n",
        "\n",
        "campos_buenos <- setdiff(colnames(dataset), c(\"clase_ternaria\", \"clase01\"))"
      ],
      "metadata": {
        "id": "h8Anoo4Sel8S"
      },
      "execution_count": 9,
      "outputs": []
    },
    {
      "cell_type": "code",
      "source": [
        "# establezco donde entreno\n",
        "\n",
        "dataset[, train := 0L]\n",
        "dataset[foto_mes %in% c(202107), train := 1L]"
      ],
      "metadata": {
        "id": "RA3cSJ6KaGwA"
      },
      "execution_count": 10,
      "outputs": []
    },
    {
      "cell_type": "code",
      "source": [
        "# dejo los datos en el formato que necesita LightGBM\n",
        "\n",
        "dtrain <- lgb.Dataset(\n",
        "  data= data.matrix(dataset[train == 1L, campos_buenos, with= FALSE]),\n",
        "  label= dataset[train == 1L, clase01]\n",
        ")"
      ],
      "metadata": {
        "id": "T6Zr06HB1kMU"
      },
      "execution_count": 11,
      "outputs": []
    },
    {
      "cell_type": "code",
      "source": [
        "# genero el modelo\n",
        "# estos hiperparametros  salieron de una laaarga Optmizacion Bayesiana\n",
        "\n",
        "set.seed(PARAM$semilla_primigenia, kind = \"L'Ecuyer-CMRG\") # Establezco la semilla aleatoria\n",
        "\n",
        "modelo <- lgb.train(\n",
        "  data= dtrain,\n",
        "  param= list(\n",
        "    objective= \"binary\",\n",
        "    max_bin= PARAM$lgb$max_bin,\n",
        "    learning_rate= PARAM$lgb$learning_rate,\n",
        "    num_iterations= PARAM$lgb$num_iterations,\n",
        "    num_leaves= PARAM$lgb$num_leaves,\n",
        "    min_data_in_leaf= PARAM$lgb$min_data_in_leaf,\n",
        "    feature_fraction= PARAM$lgb$feature_fraction,\n",
        "    seed= PARAM$semilla_primigenia\n",
        "  )\n",
        ")\n"
      ],
      "metadata": {
        "id": "TI9_5pii2zCF",
        "colab": {
          "base_uri": "https://localhost:8080/"
        },
        "outputId": "4cdbade9-a00d-4972-dd99-27fed2b64483"
      },
      "execution_count": 12,
      "outputs": [
        {
          "output_type": "stream",
          "name": "stdout",
          "text": [
            "[LightGBM] [Info] Number of positive: 1248, number of negative: 163348\n",
            "[LightGBM] [Info] Auto-choosing row-wise multi-threading, the overhead of testing was 0.091346 seconds.\n",
            "You can set `force_row_wise=true` to remove the overhead.\n",
            "And if memory is not enough, you can set `force_col_wise=true`.\n",
            "[LightGBM] [Info] Total Bins 3612\n",
            "[LightGBM] [Info] Number of data points in the train set: 164596, number of used features: 153\n",
            "[LightGBM] [Info] [binary:BoostFromScore]: pavg=0.007582 -> initscore=-4.874341\n",
            "[LightGBM] [Info] Start training from score -4.874341\n"
          ]
        }
      ]
    },
    {
      "cell_type": "code",
      "source": [
        "# ahora imprimo la importancia de variables\n",
        "tb_importancia <- as.data.table(lgb.importance(modelo))\n",
        "archivo_importancia <- \"impo.txt\"\n",
        "\n",
        "fwrite(tb_importancia,\n",
        "  file= archivo_importancia,\n",
        "  sep= \"\\t\"\n",
        ")\n"
      ],
      "metadata": {
        "id": "69QcMsSkg9d-"
      },
      "execution_count": 13,
      "outputs": []
    },
    {
      "cell_type": "code",
      "source": [
        "# grabo a disco el modelo en un formato para seres humanos ... ponele ...\n",
        "\n",
        "lgb.save(modelo, \"modelo.txt\" )"
      ],
      "metadata": {
        "id": "lauiNeQDg-XP"
      },
      "execution_count": 14,
      "outputs": []
    },
    {
      "cell_type": "code",
      "source": [
        "# aplico el modelo a los datos sin clase\n",
        "dfuture <- dataset[foto_mes == 202109]\n",
        "\n",
        "# aplico el modelo a los datos nuevos\n",
        "prediccion <- predict(\n",
        "  modelo,\n",
        "  data.matrix(dfuture[, campos_buenos, with= FALSE])\n",
        ")\n"
      ],
      "metadata": {
        "id": "VQhEcNmBhF7u"
      },
      "execution_count": 15,
      "outputs": []
    },
    {
      "cell_type": "code",
      "source": [
        "# tabla de prediccion\n",
        "\n",
        "tb_prediccion <- dfuture[, list(numero_de_cliente)]\n",
        "tb_prediccion[, prob := prediccion ]\n",
        "\n",
        "# grabo las probabilidad del modelo\n",
        "fwrite(tb_prediccion,\n",
        "  file= \"prediccion.txt\",\n",
        "  sep= \"\\t\"\n",
        ")"
      ],
      "metadata": {
        "id": "Z5LYpStThlIC"
      },
      "execution_count": 16,
      "outputs": []
    },
    {
      "cell_type": "code",
      "source": [
        "# subidas a Kaggle\n",
        "# ordeno por probabilidad descendente\n",
        "\n",
        "setorder(tb_prediccion, -prob)"
      ],
      "metadata": {
        "id": "vSopCODCh6kL"
      },
      "execution_count": 17,
      "outputs": []
    },
    {
      "cell_type": "code",
      "source": [
        "# genero la prediccion y subo a Kaggle\n",
        "\n",
        "tb_prediccion[, Predicted := 0L]\n",
        "tb_prediccion[prob>(1/40), Predicted := 1L]\n",
        "\n",
        "archivo_kaggle <- paste0(\"KA\", PARAM$experimento, \".csv\")\n",
        "\n",
        "# grabo el archivo\n",
        "fwrite(tb_prediccion[, list(numero_de_cliente, Predicted)],\n",
        "  file= archivo_kaggle,\n",
        "  sep= \",\"\n",
        ")\n",
        "\n",
        "# subida a Kaggle\n",
        "comando <- \"kaggle competitions submit\"\n",
        "competencia <- \"-c labo-i-2025-virtual-analista-sr\"\n",
        "arch <- paste( \"-f\", archivo_kaggle)\n",
        "\n",
        "mensaje <- paste0(\"-m 'num_iterations=\", PARAM$lgb$num_iterations,\n",
        "  \"  learning_rate=\", PARAM$lgb$learning_rate,\n",
        "  \"  feature_fraction=\", PARAM$lgb$feature_fraction,\n",
        "  \"  min_data_in_leaf=\", PARAM$lgb$min_data_in_leaf,\n",
        "  \"  num_leaves=\",PARAM$lgb$num_leaves,\n",
        "  \"  max_bin=\", PARAM$lgb$max_bin,\n",
        "\"'\" )\n",
        "\n",
        "linea <- paste( comando, competencia, arch, mensaje)\n",
        "salida <- system(linea, intern=TRUE)\n",
        "cat(salida)"
      ],
      "metadata": {
        "id": "pmxc2Z0fpJAZ",
        "colab": {
          "base_uri": "https://localhost:8080/"
        },
        "outputId": "9b49e40a-0685-4919-9d3f-04afc6f81e5f"
      },
      "execution_count": 18,
      "outputs": [
        {
          "output_type": "stream",
          "name": "stderr",
          "text": [
            "Warning message in system(linea, intern = TRUE):\n",
            "“running command 'kaggle competitions submit -c labo-i-2025-virtual-analista-sr -f KA4070.csv -m 'num_iterations=1000  learning_rate=0.027  feature_fraction=0.8  min_data_in_leaf=76  num_leaves=8  max_bin=31'' had status 1”\n"
          ]
        }
      ]
    },
    {
      "cell_type": "code",
      "source": [
        "format(Sys.time(), \"%a %b %d %X %Y\")"
      ],
      "metadata": {
        "id": "PK3QGWJsXk_k",
        "colab": {
          "base_uri": "https://localhost:8080/",
          "height": 34
        },
        "outputId": "88436732-a099-40da-af80-7011881dc5ab"
      },
      "execution_count": 19,
      "outputs": [
        {
          "output_type": "display_data",
          "data": {
            "text/html": [
              "'Wed Oct 29 12:30:36 AM 2025'"
            ],
            "text/markdown": "'Wed Oct 29 12:30:36 AM 2025'",
            "text/latex": "'Wed Oct 29 12:30:36 AM 2025'",
            "text/plain": [
              "[1] \"Wed Oct 29 12:30:36 AM 2025\""
            ]
          },
          "metadata": {}
        }
      ]
    },
    {
      "cell_type": "markdown",
      "metadata": {
        "id": "UMr6Z1enOyd3"
      },
      "source": [
        "\n",
        "\n",
        "---\n",
        "\n"
      ]
    },
    {
      "cell_type": "markdown",
      "source": [
        "### 4.08  LightGBM  optimizacion de hiperparámetros"
      ],
      "metadata": {
        "id": "lO4QwOEU-xPe"
      }
    },
    {
      "cell_type": "markdown",
      "source": [
        "La optimizacion de los hiperparámetros de LightGBM mediante el método de optimizacion bayesiana será su *caballito de batalla* durante la asignatura !"
      ],
      "metadata": {
        "id": "75FU3LjSF2uN"
      }
    },
    {
      "cell_type": "markdown",
      "metadata": {
        "id": "aJBO5Dcb_B7s"
      },
      "source": [
        "limpio el ambiente de R"
      ]
    },
    {
      "cell_type": "code",
      "source": [
        "format(Sys.time(), \"%a %b %d %X %Y\")"
      ],
      "metadata": {
        "id": "2CeMTfCuX3bH",
        "colab": {
          "base_uri": "https://localhost:8080/",
          "height": 34
        },
        "outputId": "2ff1ef7b-b5ab-4959-e481-9560bcee7422"
      },
      "execution_count": 20,
      "outputs": [
        {
          "output_type": "display_data",
          "data": {
            "text/html": [
              "'Wed Oct 29 12:30:36 AM 2025'"
            ],
            "text/markdown": "'Wed Oct 29 12:30:36 AM 2025'",
            "text/latex": "'Wed Oct 29 12:30:36 AM 2025'",
            "text/plain": [
              "[1] \"Wed Oct 29 12:30:36 AM 2025\""
            ]
          },
          "metadata": {}
        }
      ]
    },
    {
      "cell_type": "code",
      "execution_count": 21,
      "metadata": {
        "id": "HPKFI6yP_B7s",
        "colab": {
          "base_uri": "https://localhost:8080/",
          "height": 129
        },
        "outputId": "7a5e6954-eebd-4f70-f4b1-ab715a41fb14"
      },
      "outputs": [
        {
          "output_type": "display_data",
          "data": {
            "text/html": [
              "<table class=\"dataframe\">\n",
              "<caption>A matrix: 2 × 6 of type dbl</caption>\n",
              "<thead>\n",
              "\t<tr><th></th><th scope=col>used</th><th scope=col>(Mb)</th><th scope=col>gc trigger</th><th scope=col>(Mb)</th><th scope=col>max used</th><th scope=col>(Mb)</th></tr>\n",
              "</thead>\n",
              "<tbody>\n",
              "\t<tr><th scope=row>Ncells</th><td>1849603</td><td>98.8</td><td>  3832898</td><td>204.7</td><td>  3832898</td><td> 204.7</td></tr>\n",
              "\t<tr><th scope=row>Vcells</th><td>3586260</td><td>27.4</td><td>116566008</td><td>889.4</td><td>134902668</td><td>1029.3</td></tr>\n",
              "</tbody>\n",
              "</table>\n"
            ],
            "text/markdown": "\nA matrix: 2 × 6 of type dbl\n\n| <!--/--> | used | (Mb) | gc trigger | (Mb) | max used | (Mb) |\n|---|---|---|---|---|---|---|\n| Ncells | 1849603 | 98.8 |   3832898 | 204.7 |   3832898 |  204.7 |\n| Vcells | 3586260 | 27.4 | 116566008 | 889.4 | 134902668 | 1029.3 |\n\n",
            "text/latex": "A matrix: 2 × 6 of type dbl\n\\begin{tabular}{r|llllll}\n  & used & (Mb) & gc trigger & (Mb) & max used & (Mb)\\\\\n\\hline\n\tNcells & 1849603 & 98.8 &   3832898 & 204.7 &   3832898 &  204.7\\\\\n\tVcells & 3586260 & 27.4 & 116566008 & 889.4 & 134902668 & 1029.3\\\\\n\\end{tabular}\n",
            "text/plain": [
              "       used    (Mb) gc trigger (Mb)  max used  (Mb)  \n",
              "Ncells 1849603 98.8   3832898  204.7   3832898  204.7\n",
              "Vcells 3586260 27.4 116566008  889.4 134902668 1029.3"
            ]
          },
          "metadata": {}
        }
      ],
      "source": [
        "# limpio la memoria\n",
        "rm(list=ls(all.names=TRUE)) # remove all objects\n",
        "gc(full=TRUE, verbose=FALSE) # garbage collection"
      ]
    },
    {
      "cell_type": "code",
      "execution_count": 22,
      "metadata": {
        "id": "B6X8U6XF_B7t",
        "colab": {
          "base_uri": "https://localhost:8080/"
        },
        "outputId": "96d5235c-5d0e-490c-cfb3-3723c803f6e2"
      },
      "outputs": [
        {
          "output_type": "stream",
          "name": "stderr",
          "text": [
            "Loading required package: parallel\n",
            "\n",
            "Loading required package: primes\n",
            "\n",
            "Warning message in library(package, lib.loc = lib.loc, character.only = TRUE, logical.return = TRUE, :\n",
            "“there is no package called ‘primes’”\n",
            "Installing package into ‘/usr/local/lib/R/site-library’\n",
            "(as ‘lib’ is unspecified)\n",
            "\n",
            "Loading required package: primes\n",
            "\n",
            "Loading required package: DiceKriging\n",
            "\n",
            "Warning message in library(package, lib.loc = lib.loc, character.only = TRUE, logical.return = TRUE, :\n",
            "“there is no package called ‘DiceKriging’”\n",
            "Installing package into ‘/usr/local/lib/R/site-library’\n",
            "(as ‘lib’ is unspecified)\n",
            "\n",
            "Loading required package: DiceKriging\n",
            "\n",
            "Loading required package: mlrMBO\n",
            "\n",
            "Warning message in library(package, lib.loc = lib.loc, character.only = TRUE, logical.return = TRUE, :\n",
            "“there is no package called ‘mlrMBO’”\n",
            "Installing package into ‘/usr/local/lib/R/site-library’\n",
            "(as ‘lib’ is unspecified)\n",
            "\n",
            "also installing the dependencies ‘fastmatch’, ‘RcppArmadillo’, ‘mlr’, ‘ParamHelpers’, ‘smoof’, ‘BBmisc’, ‘checkmate’, ‘lhs’, ‘parallelMap’\n",
            "\n",
            "\n",
            "Loading required package: mlrMBO\n",
            "\n",
            "Loading required package: mlr\n",
            "\n",
            "Loading required package: ParamHelpers\n",
            "\n",
            "Loading required package: smoof\n",
            "\n",
            "Loading required package: checkmate\n",
            "\n",
            "\n",
            "Attaching package: ‘checkmate’\n",
            "\n",
            "\n",
            "The following object is masked from ‘package:DiceKriging’:\n",
            "\n",
            "    checkNames\n",
            "\n",
            "\n"
          ]
        }
      ],
      "source": [
        "# cargo las librerias que necesito\n",
        "require(\"data.table\")\n",
        "require(\"rpart\")\n",
        "require(\"parallel\")\n",
        "\n",
        "if( !require(\"primes\") ) install.packages(\"primes\")\n",
        "require(\"primes\")\n",
        "\n",
        "if( !require(\"rlist\") ) install.packages(\"rlist\")\n",
        "require(\"rlist\")\n",
        "\n",
        "if( !require(\"lightgbm\") ) install.packages(\"lightgbm\")\n",
        "require(\"lightgbm\")\n",
        "\n",
        "if( !require(\"DiceKriging\") ) install.packages(\"DiceKriging\")\n",
        "require(\"DiceKriging\")\n",
        "\n",
        "if( !require(\"mlrMBO\") ) install.packages(\"mlrMBO\")\n",
        "require(\"mlrMBO\")\n"
      ]
    },
    {
      "cell_type": "markdown",
      "source": [
        "Aqui debe cargar SU semilla primigenia"
      ],
      "metadata": {
        "id": "_qZHeAHdCJQ2"
      }
    },
    {
      "cell_type": "code",
      "source": [
        "PARAM <- list()\n",
        "PARAM$experimento <- 4080\n",
        "PARAM$semilla_primigenia <- 100043\n",
        "\n",
        "# un undersampling de 0.1  toma solo el 10% de los CONTINUA\n",
        "# undersampling de 1.0  implica tomar TODOS los datos\n",
        "PARAM$trainingstrategy$undersampling <- 1.0\n",
        "\n",
        "PARAM$hyperparametertuning$iteraciones <- 30 # iteracines bayesianas\n",
        "\n",
        "PARAM$hyperparametertuning$xval_folds <- 5\n",
        "\n",
        "# parametros fijos del LightGBM\n",
        "PARAM$lgbm$param_fijos <- list(\n",
        "  objective= \"binary\",\n",
        "  metric= \"auc\",\n",
        "  first_metric_only= TRUE,\n",
        "  boost_from_average= TRUE,\n",
        "  feature_pre_filter= FALSE,\n",
        "  verbosity= -100,\n",
        "  force_row_wise= TRUE, # para evitar warning\n",
        "  seed= PARAM$semilla_primigenia,\n",
        "  max_bin= 31,\n",
        "  num_iterations= 2048,  # valor grande, lo limita early_stopping_rounds\n",
        "  early_stopping_rounds= 200\n",
        ")\n",
        "\n",
        "# Aqui se cargan los bordes de los hiperparametros\n",
        "PARAM$hypeparametertuning$hs <- makeParamSet(\n",
        "  makeNumericParam(\"learning_rate\", lower= 0.01, upper= 0.3),\n",
        "  makeNumericParam(\"feature_fraction\", lower= 0.1, upper= 1.0),\n",
        "  makeIntegerParam(\"num_leaves\", lower= 8L, upper= 2048L),\n",
        "  makeIntegerParam(\"min_data_in_leaf\", lower= 1L, upper= 8000L)\n",
        ")"
      ],
      "metadata": {
        "id": "2y3Ai8F6CJQ2"
      },
      "execution_count": 23,
      "outputs": []
    },
    {
      "cell_type": "code",
      "source": [
        "# En el argumento x llegan los parmaetros de la bayesiana\n",
        "#  devuelve la AUC de cross validation del modelo entrenado\n",
        "\n",
        "EstimarGanancia_AUC_lightgbm <- function(x) {\n",
        "\n",
        "  message(format(Sys.time(), \"%a %b %d %X %Y\"))\n",
        "\n",
        "  # uno la lista de hiperparametros : fijos + variables\n",
        "  param_completo <- c(PARAM$lgbm$param_fijos, x)\n",
        "\n",
        "  # entreno LightGBM\n",
        "  modelocv <- lgb.cv(\n",
        "    data= dtrain,\n",
        "    nfold= PARAM$hyperparametertuning$xval_folds,\n",
        "    stratified= TRUE,\n",
        "    param= param_completo,\n",
        "    verbose= -100\n",
        "  )\n",
        "\n",
        "  # obtengo la ganancia\n",
        "  AUC <- modelocv$best_score\n",
        "\n",
        "  # esta es la forma de devolver un parametro extra\n",
        "  attr(AUC, \"extras\") <- list(\"num_iterations\"= modelocv$best_iter)\n",
        "\n",
        "  # hago espacio en la memoria\n",
        "  rm(modelocv)\n",
        "  gc(full= TRUE, verbose= FALSE)\n",
        "\n",
        "  message( \"AUC: \", AUC)\n",
        "  return(AUC)\n",
        "}"
      ],
      "metadata": {
        "id": "NnPKiCHuCwVo"
      },
      "execution_count": 24,
      "outputs": []
    },
    {
      "cell_type": "markdown",
      "source": [
        "aqui se inicia el programa"
      ],
      "metadata": {
        "id": "P7Pw1KLeE3UH"
      }
    },
    {
      "cell_type": "code",
      "source": [
        "# carpeta de trabajo\n",
        "\n",
        "setwd(\"/content/buckets/b1/exp\")\n",
        "experimento_folder <- paste0(\"HT\", PARAM$experimento)\n",
        "dir.create(experimento_folder, showWarnings=FALSE)\n",
        "setwd( paste0(\"/content/buckets/b1/exp/\", experimento_folder ))"
      ],
      "metadata": {
        "id": "w1lb19whCJQ3"
      },
      "execution_count": 25,
      "outputs": []
    },
    {
      "cell_type": "code",
      "source": [
        "# en este archivo quedan la evolucion binaria de la BO\n",
        "\n",
        "kbayesiana <- \"bayesiana.RDATA\""
      ],
      "metadata": {
        "id": "QvOokHUvuolF"
      },
      "execution_count": 26,
      "outputs": []
    },
    {
      "cell_type": "code",
      "source": [
        "# lectura del dataset\n",
        "\n",
        "dataset <- fread(\"/content/datasets/dataset_pequeno.csv\")"
      ],
      "metadata": {
        "id": "xcOJpoFvCJQ3"
      },
      "execution_count": 27,
      "outputs": []
    },
    {
      "cell_type": "code",
      "source": [
        "dataset <- dataset[foto_mes %in% c(202107)]"
      ],
      "metadata": {
        "id": "JorOk_A8EhSy"
      },
      "execution_count": 28,
      "outputs": []
    },
    {
      "cell_type": "code",
      "source": [
        "# paso la clase a binaria que tome valores {0,1}  enteros\n",
        "\n",
        "dataset[\n",
        "  foto_mes %in% c(202107),\n",
        "  clase01 := ifelse(clase_ternaria == \"BAJA+2\", 1L, 0L)\n",
        "]"
      ],
      "metadata": {
        "id": "JDg9xZVYrwvj"
      },
      "execution_count": 29,
      "outputs": []
    },
    {
      "cell_type": "code",
      "source": [
        "# los campos que se van a utilizar\n",
        "\n",
        "campos_buenos <- setdiff(\n",
        "  colnames(dataset),\n",
        "  c(\"clase_ternaria\", \"clase01\", \"azar\", \"training\")\n",
        ")\n"
      ],
      "metadata": {
        "id": "E68xpDYAr0nK"
      },
      "execution_count": 30,
      "outputs": []
    },
    {
      "cell_type": "code",
      "source": [
        "# defino los datos que forma parte del training\n",
        "# aqui se hace el undersampling de los CONTINUA\n",
        "# notar que para esto utilizo la SEGUNDA semilla\n",
        "\n",
        "set.seed(PARAM$semilla_primigenia, kind= \"L'Ecuyer-CMRG\")\n",
        "dataset[, azar := runif(nrow(dataset))]\n",
        "dataset[, training := 0L]\n",
        "\n",
        "dataset[\n",
        "  foto_mes %in% c(202107) &\n",
        "    (azar <= PARAM$trainingstrategy$undersampling | clase_ternaria %in% c(\"BAJA+1\", \"BAJA+2\")),\n",
        "  training := 1L\n",
        "]"
      ],
      "metadata": {
        "id": "G8zeYUfSr3GF"
      },
      "execution_count": 31,
      "outputs": []
    },
    {
      "cell_type": "code",
      "source": [
        "# dejo los datos en el formato que necesita LightGBM\n",
        "\n",
        "dtrain <- lgb.Dataset(\n",
        "  data= data.matrix(dataset[training == 1L, campos_buenos, with= FALSE]),\n",
        "  label= dataset[training == 1L, clase01],\n",
        "  free_raw_data= FALSE\n",
        ")\n",
        "\n",
        "nrow(dtrain)\n",
        "ncol(dtrain)"
      ],
      "metadata": {
        "id": "se8_aKuMr5CV",
        "colab": {
          "base_uri": "https://localhost:8080/",
          "height": 52
        },
        "outputId": "3998cd0e-961a-4fd8-a3e9-e0b6bb069406"
      },
      "execution_count": 32,
      "outputs": [
        {
          "output_type": "display_data",
          "data": {
            "text/html": [
              "164596"
            ],
            "text/markdown": "164596",
            "text/latex": "164596",
            "text/plain": [
              "[1] 164596"
            ]
          },
          "metadata": {}
        },
        {
          "output_type": "display_data",
          "data": {
            "text/html": [
              "154"
            ],
            "text/markdown": "154",
            "text/latex": "154",
            "text/plain": [
              "[1] 154"
            ]
          },
          "metadata": {}
        }
      ]
    },
    {
      "cell_type": "code",
      "source": [
        "# Aqui comienza la configuracion de la Bayesian Optimization\n",
        "\n",
        "funcion_optimizar <- EstimarGanancia_AUC_lightgbm # la funcion que voy a maximizar\n",
        "\n",
        "configureMlr(show.learner.output= FALSE)\n",
        "\n",
        "# configuro la busqueda bayesiana,  los hiperparametros que se van a optimizar\n",
        "# por favor, no desesperarse por lo complejo\n",
        "\n",
        "obj.fun <- makeSingleObjectiveFunction(\n",
        "  fn= funcion_optimizar, # la funcion que voy a maximizar\n",
        "  minimize= FALSE, # estoy Maximizando la ganancia\n",
        "  noisy= TRUE,\n",
        "  par.set= PARAM$hypeparametertuning$hs, # definido al comienzo del programa\n",
        "  has.simple.signature= FALSE # paso los parametros en una lista\n",
        ")\n",
        "\n",
        "# cada 600 segundos guardo el resultado intermedio\n",
        "ctrl <- makeMBOControl(\n",
        "  save.on.disk.at.time= 600, # se graba cada 600 segundos\n",
        "  save.file.path= kbayesiana\n",
        ") # se graba cada 600 segundos\n",
        "\n",
        "# indico la cantidad de iteraciones que va a tener la Bayesian Optimization\n",
        "ctrl <- setMBOControlTermination(\n",
        "  ctrl,\n",
        "  iters= PARAM$hyperparametertuning$iteraciones\n",
        ") # cantidad de iteraciones\n",
        "\n",
        "# defino el método estandar para la creacion de los puntos iniciales,\n",
        "# los \"No Inteligentes\"\n",
        "ctrl <- setMBOControlInfill(ctrl, crit= makeMBOInfillCritEI())\n",
        "\n",
        "# establezco la funcion que busca el maximo\n",
        "surr.km <- makeLearner(\n",
        "  \"regr.km\",\n",
        "  predict.type= \"se\",\n",
        "  covtype= \"matern3_2\",\n",
        "  control= list(trace= TRUE)\n",
        ")\n"
      ],
      "metadata": {
        "id": "CsRYGGeN-1ID"
      },
      "execution_count": 33,
      "outputs": []
    },
    {
      "cell_type": "code",
      "source": [
        "# inicio la optimizacion bayesiana, retomando si ya existe\n",
        "\n",
        "if (!file.exists(kbayesiana)) {\n",
        "  bayesiana_salida <- mbo(obj.fun, learner= surr.km, control= ctrl)\n",
        "} else {\n",
        "  bayesiana_salida <- mboContinue(kbayesiana) # retomo en caso que ya exista\n",
        "}"
      ],
      "metadata": {
        "id": "TissqCCHD1uZ",
        "colab": {
          "base_uri": "https://localhost:8080/"
        },
        "outputId": "e8138c5b-cb72-4b87-b3e6-aec2fe2dd8e6"
      },
      "execution_count": 34,
      "outputs": [
        {
          "output_type": "stream",
          "name": "stderr",
          "text": [
            "Computing y column(s) for design. Not provided.\n",
            "\n",
            "Wed Oct 29 12:33:47 AM 2025\n",
            "\n",
            "AUC: 0.903514757412626\n",
            "\n",
            "Wed Oct 29 12:34:52 AM 2025\n",
            "\n",
            "AUC: 0.90080066302727\n",
            "\n",
            "Wed Oct 29 12:35:46 AM 2025\n",
            "\n",
            "AUC: 0.894002914773571\n",
            "\n",
            "Wed Oct 29 12:36:38 AM 2025\n",
            "\n",
            "AUC: 0.901612010410422\n",
            "\n",
            "Wed Oct 29 12:37:33 AM 2025\n",
            "\n",
            "AUC: 0.902749113136752\n",
            "\n",
            "Wed Oct 29 12:38:42 AM 2025\n",
            "\n",
            "AUC: 0.899043921106714\n",
            "\n",
            "Wed Oct 29 12:39:27 AM 2025\n",
            "\n",
            "AUC: 0.902538171844286\n",
            "\n",
            "Wed Oct 29 12:40:18 AM 2025\n",
            "\n",
            "AUC: 0.897576049937892\n",
            "\n",
            "Wed Oct 29 12:41:02 AM 2025\n",
            "\n",
            "AUC: 0.903586483041819\n",
            "\n",
            "Wed Oct 29 12:42:41 AM 2025\n",
            "\n",
            "AUC: 0.902835095724744\n",
            "\n",
            "Wed Oct 29 12:43:22 AM 2025\n",
            "\n",
            "AUC: 0.895227971601167\n",
            "\n",
            "Wed Oct 29 12:44:18 AM 2025\n",
            "\n",
            "AUC: 0.902819846705251\n",
            "\n",
            "Wed Oct 29 12:45:42 AM 2025\n",
            "\n",
            "AUC: 0.898285219400315\n",
            "\n",
            "Wed Oct 29 12:47:11 AM 2025\n",
            "\n",
            "AUC: 0.90025924669831\n",
            "\n",
            "Wed Oct 29 12:48:01 AM 2025\n",
            "\n",
            "AUC: 0.905607134726353\n",
            "\n",
            "Wed Oct 29 12:48:55 AM 2025\n",
            "\n",
            "AUC: 0.880471396067019\n",
            "\n",
            "[mbo] 0: learning_rate=0.126; feature_fraction=0.557; num_leaves=1562; min_data_in_leaf=7429 : y = 0.904 : 64.7 secs : initdesign\n",
            "\n",
            "[mbo] 0: learning_rate=0.215; feature_fraction=0.71; num_leaves=900; min_data_in_leaf=1510 : y = 0.901 : 54.4 secs : initdesign\n",
            "\n",
            "[mbo] 0: learning_rate=0.276; feature_fraction=0.776; num_leaves=755; min_data_in_leaf=1425 : y = 0.894 : 52.4 secs : initdesign\n",
            "\n",
            "[mbo] 0: learning_rate=0.14; feature_fraction=0.358; num_leaves=433; min_data_in_leaf=4645 : y = 0.902 : 55.1 secs : initdesign\n",
            "\n",
            "[mbo] 0: learning_rate=0.105; feature_fraction=0.466; num_leaves=1760; min_data_in_leaf=2921 : y = 0.903 : 68.9 secs : initdesign\n",
            "\n",
            "[mbo] 0: learning_rate=0.175; feature_fraction=0.654; num_leaves=529; min_data_in_leaf=3621 : y = 0.899 : 44.4 secs : initdesign\n",
            "\n",
            "[mbo] 0: learning_rate=0.0588; feature_fraction=0.768; num_leaves=1853; min_data_in_leaf=4447 : y = 0.903 : 51.1 secs : initdesign\n",
            "\n",
            "[mbo] 0: learning_rate=0.238; feature_fraction=0.158; num_leaves=256; min_data_in_leaf=6845 : y = 0.898 : 44.4 secs : initdesign\n",
            "\n",
            "[mbo] 0: learning_rate=0.0244; feature_fraction=0.114; num_leaves=1166; min_data_in_leaf=2443 : y = 0.904 : 99.1 secs : initdesign\n",
            "\n",
            "[mbo] 0: learning_rate=0.199; feature_fraction=0.841; num_leaves=1923; min_data_in_leaf=5682 : y = 0.903 : 40.5 secs : initdesign\n",
            "\n",
            "[mbo] 0: learning_rate=0.288; feature_fraction=0.404; num_leaves=1416; min_data_in_leaf=3218 : y = 0.895 : 55.7 secs : initdesign\n",
            "\n",
            "[mbo] 0: learning_rate=0.0457; feature_fraction=0.53; num_leaves=26; min_data_in_leaf=5304 : y = 0.903 : 84.4 secs : initdesign\n",
            "\n",
            "[mbo] 0: learning_rate=0.0908; feature_fraction=0.935; num_leaves=1112; min_data_in_leaf=712 : y = 0.898 : 88.6 secs : initdesign\n",
            "\n",
            "[mbo] 0: learning_rate=0.163; feature_fraction=0.236; num_leaves=1409; min_data_in_leaf=6166 : y = 0.9 : 50.1 secs : initdesign\n",
            "\n",
            "[mbo] 0: learning_rate=0.0655; feature_fraction=0.946; num_leaves=915; min_data_in_leaf=7757 : y = 0.906 : 53.9 secs : initdesign\n",
            "\n",
            "[mbo] 0: learning_rate=0.255; feature_fraction=0.319; num_leaves=376; min_data_in_leaf=229 : y = 0.88 : 76.6 secs : initdesign\n",
            "\n",
            "Saved the current state after iteration 1 in the file bayesiana.RDATA.\n",
            "\n",
            "Wed Oct 29 12:50:12 AM 2025\n",
            "\n",
            "AUC: 0.903863486224868\n",
            "\n",
            "[mbo] 1: learning_rate=0.0938; feature_fraction=0.873; num_leaves=1008; min_data_in_leaf=6659 : y = 0.904 : 49.5 secs : infill_ei\n",
            "\n",
            "Wed Oct 29 12:51:01 AM 2025\n",
            "\n",
            "AUC: 0.901384450066306\n",
            "\n",
            "[mbo] 2: learning_rate=0.0706; feature_fraction=0.118; num_leaves=451; min_data_in_leaf=7996 : y = 0.901 : 84.3 secs : infill_ei\n",
            "\n",
            "Wed Oct 29 12:52:26 AM 2025\n",
            "\n",
            "AUC: 0.89997279564658\n",
            "\n",
            "[mbo] 3: learning_rate=0.124; feature_fraction=0.999; num_leaves=1435; min_data_in_leaf=1970 : y = 0.9 : 56.9 secs : infill_ei\n",
            "\n",
            "Wed Oct 29 12:53:23 AM 2025\n",
            "\n",
            "AUC: 0.904657024783236\n",
            "\n",
            "[mbo] 4: learning_rate=0.0236; feature_fraction=0.647; num_leaves=959; min_data_in_leaf=7998 : y = 0.905 : 112.7 secs : infill_ei\n",
            "\n",
            "Wed Oct 29 12:55:16 AM 2025\n",
            "\n",
            "AUC: 0.904516041326393\n",
            "\n",
            "[mbo] 5: learning_rate=0.0383; feature_fraction=1; num_leaves=1564; min_data_in_leaf=7999 : y = 0.905 : 66.0 secs : infill_ei\n",
            "\n",
            "Wed Oct 29 12:56:23 AM 2025\n",
            "\n",
            "AUC: 0.903464602119688\n",
            "\n",
            "[mbo] 6: learning_rate=0.0266; feature_fraction=0.497; num_leaves=843; min_data_in_leaf=4415 : y = 0.903 : 113.2 secs : infill_ei\n",
            "\n",
            "Wed Oct 29 12:58:16 AM 2025\n",
            "\n",
            "AUC: 0.903440156801712\n",
            "\n",
            "[mbo] 7: learning_rate=0.0669; feature_fraction=0.755; num_leaves=1255; min_data_in_leaf=8000 : y = 0.903 : 52.6 secs : infill_ei\n",
            "\n",
            "Wed Oct 29 12:59:09 AM 2025\n",
            "\n",
            "AUC: 0.903903119396169\n",
            "\n",
            "[mbo] 8: learning_rate=0.0233; feature_fraction=1; num_leaves=419; min_data_in_leaf=7992 : y = 0.904 : 98.6 secs : infill_ei\n",
            "\n",
            "Saved the current state after iteration 9 in the file bayesiana.RDATA.\n",
            "\n",
            "Wed Oct 29 01:00:48 AM 2025\n",
            "\n",
            "AUC: 0.906170154966716\n",
            "\n",
            "[mbo] 9: learning_rate=0.0256; feature_fraction=0.841; num_leaves=1367; min_data_in_leaf=7461 : y = 0.906 : 91.9 secs : infill_ei\n",
            "\n",
            "Wed Oct 29 01:02:20 AM 2025\n",
            "\n",
            "AUC: 0.903677445877355\n",
            "\n",
            "[mbo] 10: learning_rate=0.0187; feature_fraction=0.963; num_leaves=2045; min_data_in_leaf=6654 : y = 0.904 : 128.2 secs : infill_ei\n",
            "\n",
            "Wed Oct 29 01:04:29 AM 2025\n",
            "\n",
            "AUC: 0.90283330531454\n",
            "\n",
            "[mbo] 11: learning_rate=0.0464; feature_fraction=1; num_leaves=954; min_data_in_leaf=7369 : y = 0.903 : 62.6 secs : infill_ei\n",
            "\n",
            "Wed Oct 29 01:05:32 AM 2025\n",
            "\n",
            "AUC: 0.906590644629903\n",
            "\n",
            "[mbo] 12: learning_rate=0.0118; feature_fraction=0.886; num_leaves=1778; min_data_in_leaf=8000 : y = 0.907 : 145.6 secs : infill_ei\n",
            "\n",
            "Wed Oct 29 01:07:58 AM 2025\n",
            "\n",
            "AUC: 0.905172394082078\n",
            "\n",
            "[mbo] 13: learning_rate=0.0773; feature_fraction=0.926; num_leaves=316; min_data_in_leaf=7998 : y = 0.905 : 52.6 secs : infill_ei\n",
            "\n",
            "Wed Oct 29 01:08:51 AM 2025\n",
            "\n",
            "AUC: 0.905197190565163\n",
            "\n",
            "[mbo] 14: learning_rate=0.0747; feature_fraction=0.915; num_leaves=2034; min_data_in_leaf=8000 : y = 0.905 : 53.3 secs : infill_ei\n",
            "\n",
            "Wed Oct 29 01:09:44 AM 2025\n",
            "\n",
            "AUC: 0.904898977644573\n",
            "\n",
            "[mbo] 15: learning_rate=0.0101; feature_fraction=0.54; num_leaves=2039; min_data_in_leaf=6783 : y = 0.905 : 207.8 secs : infill_ei\n",
            "\n",
            "Saved the current state after iteration 16 in the file bayesiana.RDATA.\n",
            "\n",
            "Wed Oct 29 01:13:12 AM 2025\n",
            "\n",
            "AUC: 0.903567269690465\n",
            "\n",
            "[mbo] 16: learning_rate=0.0101; feature_fraction=0.386; num_leaves=892; min_data_in_leaf=7444 : y = 0.904 : 254.2 secs : infill_ei\n",
            "\n",
            "Wed Oct 29 01:17:27 AM 2025\n",
            "\n",
            "AUC: 0.90503212243669\n",
            "\n",
            "[mbo] 17: learning_rate=0.0104; feature_fraction=0.879; num_leaves=930; min_data_in_leaf=7999 : y = 0.905 : 191.3 secs : infill_ei\n",
            "\n",
            "Wed Oct 29 01:20:39 AM 2025\n",
            "\n",
            "AUC: 0.905343977273326\n",
            "\n",
            "[mbo] 18: learning_rate=0.14; feature_fraction=0.949; num_leaves=511; min_data_in_leaf=7710 : y = 0.905 : 47.8 secs : infill_ei\n",
            "\n",
            "Wed Oct 29 01:21:27 AM 2025\n",
            "\n",
            "AUC: 0.904387520988231\n",
            "\n",
            "[mbo] 19: learning_rate=0.131; feature_fraction=0.79; num_leaves=823; min_data_in_leaf=7999 : y = 0.904 : 42.9 secs : infill_ei\n",
            "\n",
            "Wed Oct 29 01:22:10 AM 2025\n",
            "\n",
            "AUC: 0.90605730474565\n",
            "\n",
            "[mbo] 20: learning_rate=0.124; feature_fraction=1; num_leaves=1546; min_data_in_leaf=7999 : y = 0.906 : 44.5 secs : infill_ei\n",
            "\n",
            "Wed Oct 29 01:22:55 AM 2025\n",
            "\n",
            "AUC: 0.902265116583351\n",
            "\n",
            "[mbo] 21: learning_rate=0.217; feature_fraction=0.999; num_leaves=894; min_data_in_leaf=7995 : y = 0.902 : 41.8 secs : infill_ei\n",
            "\n",
            "Saved the current state after iteration 22 in the file bayesiana.RDATA.\n",
            "\n",
            "Wed Oct 29 01:23:37 AM 2025\n",
            "\n",
            "AUC: 0.904668693458111\n",
            "\n",
            "[mbo] 22: learning_rate=0.0224; feature_fraction=0.839; num_leaves=1740; min_data_in_leaf=7995 : y = 0.905 : 107.0 secs : infill_ei\n",
            "\n",
            "Wed Oct 29 01:25:25 AM 2025\n",
            "\n",
            "AUC: 0.903924511031677\n",
            "\n",
            "[mbo] 23: learning_rate=0.0102; feature_fraction=0.901; num_leaves=1722; min_data_in_leaf=7487 : y = 0.904 : 166.5 secs : infill_ei\n",
            "\n",
            "Wed Oct 29 01:28:12 AM 2025\n",
            "\n",
            "AUC: 0.906608399025526\n",
            "\n",
            "[mbo] 24: learning_rate=0.0103; feature_fraction=0.698; num_leaves=1884; min_data_in_leaf=7997 : y = 0.907 : 194.4 secs : infill_ei\n",
            "\n",
            "Wed Oct 29 01:31:26 AM 2025\n",
            "\n",
            "AUC: 0.901433447765728\n",
            "\n",
            "[mbo] 25: learning_rate=0.127; feature_fraction=0.991; num_leaves=1820; min_data_in_leaf=7999 : y = 0.901 : 44.4 secs : infill_ei\n",
            "\n",
            "Wed Oct 29 01:32:11 AM 2025\n",
            "\n",
            "AUC: 0.904652071580447\n",
            "\n",
            "[mbo] 26: learning_rate=0.116; feature_fraction=0.923; num_leaves=1312; min_data_in_leaf=7996 : y = 0.905 : 45.2 secs : infill_ei\n",
            "\n",
            "Wed Oct 29 01:32:57 AM 2025\n",
            "\n",
            "AUC: 0.902209105263627\n",
            "\n",
            "[mbo] 27: learning_rate=0.0841; feature_fraction=0.995; num_leaves=663; min_data_in_leaf=7987 : y = 0.902 : 54.1 secs : infill_ei\n",
            "\n",
            "Saved the current state after iteration 28 in the file bayesiana.RDATA.\n",
            "\n",
            "Wed Oct 29 01:33:51 AM 2025\n",
            "\n",
            "AUC: 0.90421712167088\n",
            "\n",
            "[mbo] 28: learning_rate=0.123; feature_fraction=0.972; num_leaves=514; min_data_in_leaf=7990 : y = 0.904 : 44.2 secs : infill_ei\n",
            "\n",
            "Wed Oct 29 01:34:36 AM 2025\n",
            "\n",
            "AUC: 0.904410732719929\n",
            "\n",
            "[mbo] 29: learning_rate=0.144; feature_fraction=0.994; num_leaves=218; min_data_in_leaf=7984 : y = 0.904 : 43.7 secs : infill_ei\n",
            "\n",
            "Wed Oct 29 01:35:20 AM 2025\n",
            "\n",
            "AUC: 0.905816879691724\n",
            "\n",
            "[mbo] 30: learning_rate=0.0132; feature_fraction=0.222; num_leaves=1989; min_data_in_leaf=7995 : y = 0.906 : 242.8 secs : infill_ei\n",
            "\n",
            "Saved the final state in the file bayesiana.RDATA\n",
            "\n"
          ]
        }
      ]
    },
    {
      "cell_type": "code",
      "source": [
        "# almaceno los resultados de la Bayesian Optimization\n",
        "# y capturo los mejores hiperparametros encontrados\n",
        "\n",
        "tb_bayesiana <- as.data.table(bayesiana_salida$opt.path)\n",
        "\n",
        "tb_bayesiana[, iter:= .I]\n",
        "# ordeno en forma descendente por AUC = y\n",
        "setorder(tb_bayesiana, -y, -num_iterations)\n",
        "\n",
        "# grabo para eventualmente poder utilizarlos en OTRA corrida\n",
        "fwrite( tb_bayesiana,\n",
        "  file= \"BO_log.txt\",\n",
        "  sep= \"\\t\"\n",
        ")\n",
        "\n",
        "# los mejores hiperparámetros son los que quedaron en el registro 1 de la tabla\n",
        "PARAM$out$lgbm$mejores_hiperparametros <- tb_bayesiana[\n",
        "  1, # el primero es el de mejor AUC\n",
        "  list(learning_rate, feature_fraction, num_leaves, min_data_in_leaf, num_iterations)\n",
        "]\n",
        "\n",
        "print(PARAM$out$lgbm$mejores_hiperparametros)"
      ],
      "metadata": {
        "id": "aC-ls8JfNDTf",
        "colab": {
          "base_uri": "https://localhost:8080/"
        },
        "outputId": "8c8acc71-a2dc-412a-e018-44e46b6d960d"
      },
      "execution_count": 35,
      "outputs": [
        {
          "output_type": "stream",
          "name": "stdout",
          "text": [
            "   learning_rate feature_fraction num_leaves min_data_in_leaf num_iterations\n",
            "           <num>            <num>      <int>            <int>          <int>\n",
            "1:    0.01026676        0.6978355       1884             7997            982\n"
          ]
        }
      ]
    },
    {
      "cell_type": "code",
      "source": [
        "format(Sys.time(), \"%a %b %d %X %Y\")"
      ],
      "metadata": {
        "id": "5dPpsZpcX6e8",
        "colab": {
          "base_uri": "https://localhost:8080/",
          "height": 34
        },
        "outputId": "35d3e6e5-259d-4e2c-89c3-97e87b139e2a"
      },
      "execution_count": 36,
      "outputs": [
        {
          "output_type": "display_data",
          "data": {
            "text/html": [
              "'Wed Oct 29 01:39:23 AM 2025'"
            ],
            "text/markdown": "'Wed Oct 29 01:39:23 AM 2025'",
            "text/latex": "'Wed Oct 29 01:39:23 AM 2025'",
            "text/plain": [
              "[1] \"Wed Oct 29 01:39:23 AM 2025\""
            ]
          },
          "metadata": {}
        }
      ]
    },
    {
      "cell_type": "markdown",
      "metadata": {
        "id": "0vu-1vf5LrVg"
      },
      "source": [
        "\n",
        "\n",
        "---\n",
        "\n"
      ]
    }
  ]
}